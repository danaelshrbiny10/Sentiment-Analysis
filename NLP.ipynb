{
  "nbformat": 4,
  "nbformat_minor": 0,
  "metadata": {
    "colab": {
      "name": "NLP.ipynb",
      "provenance": []
    },
    "kernelspec": {
      "name": "python3",
      "display_name": "Python 3"
    },
    "language_info": {
      "name": "python"
    }
  },
  "cells": [
    {
      "cell_type": "markdown",
      "source": [
        "# read data and check for missing"
      ],
      "metadata": {
        "id": "2T5UXHJaow6-"
      }
    },
    {
      "cell_type": "code",
      "execution_count": 17,
      "metadata": {
        "id": "r40aAjnRnJaq"
      },
      "outputs": [],
      "source": [
        "from pandas.errors import InvalidIndexError\n",
        "import pandas as pd\n",
        "import numpy as np\n",
        "import matplotlib.pyplot as plt\n",
        "import seaborn as sns\n",
        "%matplotlib inline\n",
        "# sns.set()"
      ]
    },
    {
      "cell_type": "code",
      "source": [
        "data = pd.read_csv('/content/Restaurant_Reviews.tsv', sep='\\t',quoting=3)\n",
        "data"
      ],
      "metadata": {
        "colab": {
          "base_uri": "https://localhost:8080/",
          "height": 424
        },
        "id": "OgkcJySInZlb",
        "outputId": "d24a9e50-5b42-432c-83eb-ce1f451f1643"
      },
      "execution_count": 11,
      "outputs": [
        {
          "output_type": "execute_result",
          "data": {
            "text/plain": [
              "                                                Review  Liked\n",
              "0                             Wow... Loved this place.      1\n",
              "1                                   Crust is not good.      0\n",
              "2            Not tasty and the texture was just nasty.      0\n",
              "3    Stopped by during the late May bank holiday of...      1\n",
              "4    The selection on the menu was great and so wer...      1\n",
              "..                                                 ...    ...\n",
              "995  I think food should have flavor and texture an...      0\n",
              "996                           Appetite instantly gone.      0\n",
              "997  Overall I was not impressed and would not go b...      0\n",
              "998  The whole experience was underwhelming, and I ...      0\n",
              "999  Then, as if I hadn't wasted enough of my life ...      0\n",
              "\n",
              "[1000 rows x 2 columns]"
            ],
            "text/html": [
              "\n",
              "  <div id=\"df-e0c2f597-cc97-4c2d-8464-a1e331b2db1d\">\n",
              "    <div class=\"colab-df-container\">\n",
              "      <div>\n",
              "<style scoped>\n",
              "    .dataframe tbody tr th:only-of-type {\n",
              "        vertical-align: middle;\n",
              "    }\n",
              "\n",
              "    .dataframe tbody tr th {\n",
              "        vertical-align: top;\n",
              "    }\n",
              "\n",
              "    .dataframe thead th {\n",
              "        text-align: right;\n",
              "    }\n",
              "</style>\n",
              "<table border=\"1\" class=\"dataframe\">\n",
              "  <thead>\n",
              "    <tr style=\"text-align: right;\">\n",
              "      <th></th>\n",
              "      <th>Review</th>\n",
              "      <th>Liked</th>\n",
              "    </tr>\n",
              "  </thead>\n",
              "  <tbody>\n",
              "    <tr>\n",
              "      <th>0</th>\n",
              "      <td>Wow... Loved this place.</td>\n",
              "      <td>1</td>\n",
              "    </tr>\n",
              "    <tr>\n",
              "      <th>1</th>\n",
              "      <td>Crust is not good.</td>\n",
              "      <td>0</td>\n",
              "    </tr>\n",
              "    <tr>\n",
              "      <th>2</th>\n",
              "      <td>Not tasty and the texture was just nasty.</td>\n",
              "      <td>0</td>\n",
              "    </tr>\n",
              "    <tr>\n",
              "      <th>3</th>\n",
              "      <td>Stopped by during the late May bank holiday of...</td>\n",
              "      <td>1</td>\n",
              "    </tr>\n",
              "    <tr>\n",
              "      <th>4</th>\n",
              "      <td>The selection on the menu was great and so wer...</td>\n",
              "      <td>1</td>\n",
              "    </tr>\n",
              "    <tr>\n",
              "      <th>...</th>\n",
              "      <td>...</td>\n",
              "      <td>...</td>\n",
              "    </tr>\n",
              "    <tr>\n",
              "      <th>995</th>\n",
              "      <td>I think food should have flavor and texture an...</td>\n",
              "      <td>0</td>\n",
              "    </tr>\n",
              "    <tr>\n",
              "      <th>996</th>\n",
              "      <td>Appetite instantly gone.</td>\n",
              "      <td>0</td>\n",
              "    </tr>\n",
              "    <tr>\n",
              "      <th>997</th>\n",
              "      <td>Overall I was not impressed and would not go b...</td>\n",
              "      <td>0</td>\n",
              "    </tr>\n",
              "    <tr>\n",
              "      <th>998</th>\n",
              "      <td>The whole experience was underwhelming, and I ...</td>\n",
              "      <td>0</td>\n",
              "    </tr>\n",
              "    <tr>\n",
              "      <th>999</th>\n",
              "      <td>Then, as if I hadn't wasted enough of my life ...</td>\n",
              "      <td>0</td>\n",
              "    </tr>\n",
              "  </tbody>\n",
              "</table>\n",
              "<p>1000 rows × 2 columns</p>\n",
              "</div>\n",
              "      <button class=\"colab-df-convert\" onclick=\"convertToInteractive('df-e0c2f597-cc97-4c2d-8464-a1e331b2db1d')\"\n",
              "              title=\"Convert this dataframe to an interactive table.\"\n",
              "              style=\"display:none;\">\n",
              "        \n",
              "  <svg xmlns=\"http://www.w3.org/2000/svg\" height=\"24px\"viewBox=\"0 0 24 24\"\n",
              "       width=\"24px\">\n",
              "    <path d=\"M0 0h24v24H0V0z\" fill=\"none\"/>\n",
              "    <path d=\"M18.56 5.44l.94 2.06.94-2.06 2.06-.94-2.06-.94-.94-2.06-.94 2.06-2.06.94zm-11 1L8.5 8.5l.94-2.06 2.06-.94-2.06-.94L8.5 2.5l-.94 2.06-2.06.94zm10 10l.94 2.06.94-2.06 2.06-.94-2.06-.94-.94-2.06-.94 2.06-2.06.94z\"/><path d=\"M17.41 7.96l-1.37-1.37c-.4-.4-.92-.59-1.43-.59-.52 0-1.04.2-1.43.59L10.3 9.45l-7.72 7.72c-.78.78-.78 2.05 0 2.83L4 21.41c.39.39.9.59 1.41.59.51 0 1.02-.2 1.41-.59l7.78-7.78 2.81-2.81c.8-.78.8-2.07 0-2.86zM5.41 20L4 18.59l7.72-7.72 1.47 1.35L5.41 20z\"/>\n",
              "  </svg>\n",
              "      </button>\n",
              "      \n",
              "  <style>\n",
              "    .colab-df-container {\n",
              "      display:flex;\n",
              "      flex-wrap:wrap;\n",
              "      gap: 12px;\n",
              "    }\n",
              "\n",
              "    .colab-df-convert {\n",
              "      background-color: #E8F0FE;\n",
              "      border: none;\n",
              "      border-radius: 50%;\n",
              "      cursor: pointer;\n",
              "      display: none;\n",
              "      fill: #1967D2;\n",
              "      height: 32px;\n",
              "      padding: 0 0 0 0;\n",
              "      width: 32px;\n",
              "    }\n",
              "\n",
              "    .colab-df-convert:hover {\n",
              "      background-color: #E2EBFA;\n",
              "      box-shadow: 0px 1px 2px rgba(60, 64, 67, 0.3), 0px 1px 3px 1px rgba(60, 64, 67, 0.15);\n",
              "      fill: #174EA6;\n",
              "    }\n",
              "\n",
              "    [theme=dark] .colab-df-convert {\n",
              "      background-color: #3B4455;\n",
              "      fill: #D2E3FC;\n",
              "    }\n",
              "\n",
              "    [theme=dark] .colab-df-convert:hover {\n",
              "      background-color: #434B5C;\n",
              "      box-shadow: 0px 1px 3px 1px rgba(0, 0, 0, 0.15);\n",
              "      filter: drop-shadow(0px 1px 2px rgba(0, 0, 0, 0.3));\n",
              "      fill: #FFFFFF;\n",
              "    }\n",
              "  </style>\n",
              "\n",
              "      <script>\n",
              "        const buttonEl =\n",
              "          document.querySelector('#df-e0c2f597-cc97-4c2d-8464-a1e331b2db1d button.colab-df-convert');\n",
              "        buttonEl.style.display =\n",
              "          google.colab.kernel.accessAllowed ? 'block' : 'none';\n",
              "\n",
              "        async function convertToInteractive(key) {\n",
              "          const element = document.querySelector('#df-e0c2f597-cc97-4c2d-8464-a1e331b2db1d');\n",
              "          const dataTable =\n",
              "            await google.colab.kernel.invokeFunction('convertToInteractive',\n",
              "                                                     [key], {});\n",
              "          if (!dataTable) return;\n",
              "\n",
              "          const docLinkHtml = 'Like what you see? Visit the ' +\n",
              "            '<a target=\"_blank\" href=https://colab.research.google.com/notebooks/data_table.ipynb>data table notebook</a>'\n",
              "            + ' to learn more about interactive tables.';\n",
              "          element.innerHTML = '';\n",
              "          dataTable['output_type'] = 'display_data';\n",
              "          await google.colab.output.renderOutput(dataTable, element);\n",
              "          const docLink = document.createElement('div');\n",
              "          docLink.innerHTML = docLinkHtml;\n",
              "          element.appendChild(docLink);\n",
              "        }\n",
              "      </script>\n",
              "    </div>\n",
              "  </div>\n",
              "  "
            ]
          },
          "metadata": {},
          "execution_count": 11
        }
      ]
    },
    {
      "cell_type": "markdown",
      "source": [
        "# inspect data"
      ],
      "metadata": {
        "id": "JxUeKTHp0ydh"
      }
    },
    {
      "cell_type": "code",
      "source": [
        "data.info()"
      ],
      "metadata": {
        "colab": {
          "base_uri": "https://localhost:8080/"
        },
        "id": "M-AtUcNXoEGJ",
        "outputId": "0085732e-2c02-45a8-e1fb-b87ff3aa8728"
      },
      "execution_count": 12,
      "outputs": [
        {
          "output_type": "stream",
          "name": "stdout",
          "text": [
            "<class 'pandas.core.frame.DataFrame'>\n",
            "RangeIndex: 1000 entries, 0 to 999\n",
            "Data columns (total 2 columns):\n",
            " #   Column  Non-Null Count  Dtype \n",
            "---  ------  --------------  ----- \n",
            " 0   Review  1000 non-null   object\n",
            " 1   Liked   1000 non-null   int64 \n",
            "dtypes: int64(1), object(1)\n",
            "memory usage: 15.8+ KB\n"
          ]
        }
      ]
    },
    {
      "cell_type": "code",
      "source": [
        "missing = data.isnull().sum()\n",
        "missing"
      ],
      "metadata": {
        "colab": {
          "base_uri": "https://localhost:8080/"
        },
        "id": "tnEFBk9uoIBt",
        "outputId": "a59aeca1-ca35-41b7-8e42-481018afd404"
      },
      "execution_count": 9,
      "outputs": [
        {
          "output_type": "execute_result",
          "data": {
            "text/plain": [
              "Review    0\n",
              "Liked     0\n",
              "dtype: int64"
            ]
          },
          "metadata": {},
          "execution_count": 9
        }
      ]
    },
    {
      "cell_type": "markdown",
      "source": [
        "# Exploring data"
      ],
      "metadata": {
        "id": "WBIh-1nqooKV"
      }
    },
    {
      "cell_type": "code",
      "source": [
        "data['Liked'].value_counts()"
      ],
      "metadata": {
        "colab": {
          "base_uri": "https://localhost:8080/"
        },
        "id": "lrF9jaq2otm_",
        "outputId": "f61a2ffe-db25-49c9-b3f5-6ea31b975aa8"
      },
      "execution_count": 14,
      "outputs": [
        {
          "output_type": "execute_result",
          "data": {
            "text/plain": [
              "1    500\n",
              "0    500\n",
              "Name: Liked, dtype: int64"
            ]
          },
          "metadata": {},
          "execution_count": 14
        }
      ]
    },
    {
      "cell_type": "code",
      "source": [
        "sns.countplot(x=data['Liked'])"
      ],
      "metadata": {
        "colab": {
          "base_uri": "https://localhost:8080/",
          "height": 297
        },
        "id": "5aRvg6qu1kgq",
        "outputId": "e5af3b5d-d163-4304-8db1-04e0d99f54e7"
      },
      "execution_count": 18,
      "outputs": [
        {
          "output_type": "execute_result",
          "data": {
            "text/plain": [
              "<matplotlib.axes._subplots.AxesSubplot at 0x7f85308e5ad0>"
            ]
          },
          "metadata": {},
          "execution_count": 18
        },
        {
          "output_type": "display_data",
          "data": {
            "text/plain": [
              "<Figure size 432x288 with 1 Axes>"
            ],
            "image/png": "[encoded data removed]"
          },
          "metadata": {
            "needs_background": "light"
          }
        }
      ]
    },
    {
      "cell_type": "code",
      "source": [
        "# data['Review'].value_counts()"
      ],
      "metadata": {
        "id": "inhlnhfh1a-B"
      },
      "execution_count": 16,
      "outputs": []
    },
    {
      "cell_type": "code",
      "source": [
        "data['Review'].apply(len)\n",
        "# data['Review'].apply(len).max()\n"
      ],
      "metadata": {
        "colab": {
          "base_uri": "https://localhost:8080/"
        },
        "id": "TWVABSRZ5HGY",
        "outputId": "8d40bd27-48b0-475c-d158-673d2123acf8"
      },
      "execution_count": 22,
      "outputs": [
        {
          "output_type": "execute_result",
          "data": {
            "text/plain": [
              "0       24\n",
              "1       18\n",
              "2       41\n",
              "3       87\n",
              "4       59\n",
              "      ... \n",
              "995     66\n",
              "996     24\n",
              "997     50\n",
              "998     91\n",
              "999    134\n",
              "Name: Review, Length: 1000, dtype: int64"
            ]
          },
          "metadata": {},
          "execution_count": 22
        }
      ]
    },
    {
      "cell_type": "code",
      "source": [
        "data['Review Lettre Count'] = data['Review'].apply(len)\n",
        "data"
      ],
      "metadata": {
        "colab": {
          "base_uri": "https://localhost:8080/",
          "height": 424
        },
        "id": "rzJcy1tM5l5A",
        "outputId": "fbc609b3-5814-4f4b-99b5-994c16735ae6"
      },
      "execution_count": 23,
      "outputs": [
        {
          "output_type": "execute_result",
          "data": {
            "text/plain": [
              "                                                Review  Liked  \\\n",
              "0                             Wow... Loved this place.      1   \n",
              "1                                   Crust is not good.      0   \n",
              "2            Not tasty and the texture was just nasty.      0   \n",
              "3    Stopped by during the late May bank holiday of...      1   \n",
              "4    The selection on the menu was great and so wer...      1   \n",
              "..                                                 ...    ...   \n",
              "995  I think food should have flavor and texture an...      0   \n",
              "996                           Appetite instantly gone.      0   \n",
              "997  Overall I was not impressed and would not go b...      0   \n",
              "998  The whole experience was underwhelming, and I ...      0   \n",
              "999  Then, as if I hadn't wasted enough of my life ...      0   \n",
              "\n",
              "     Review Lettre Count  \n",
              "0                     24  \n",
              "1                     18  \n",
              "2                     41  \n",
              "3                     87  \n",
              "4                     59  \n",
              "..                   ...  \n",
              "995                   66  \n",
              "996                   24  \n",
              "997                   50  \n",
              "998                   91  \n",
              "999                  134  \n",
              "\n",
              "[1000 rows x 3 columns]"
            ],
            "text/html": [
              "\n",
              "  <div id=\"df-5483a213-b650-4c30-947f-4cbc202c6f5f\">\n",
              "    <div class=\"colab-df-container\">\n",
              "      <div>\n",
              "<style scoped>\n",
              "    .dataframe tbody tr th:only-of-type {\n",
              "        vertical-align: middle;\n",
              "    }\n",
              "\n",
              "    .dataframe tbody tr th {\n",
              "        vertical-align: top;\n",
              "    }\n",
              "\n",
              "    .dataframe thead th {\n",
              "        text-align: right;\n",
              "    }\n",
              "</style>\n",
              "<table border=\"1\" class=\"dataframe\">\n",
              "  <thead>\n",
              "    <tr style=\"text-align: right;\">\n",
              "      <th></th>\n",
              "      <th>Review</th>\n",
              "      <th>Liked</th>\n",
              "      <th>Review Lettre Count</th>\n",
              "    </tr>\n",
              "  </thead>\n",
              "  <tbody>\n",
              "    <tr>\n",
              "      <th>0</th>\n",
              "      <td>Wow... Loved this place.</td>\n",
              "      <td>1</td>\n",
              "      <td>24</td>\n",
              "    </tr>\n",
              "    <tr>\n",
              "      <th>1</th>\n",
              "      <td>Crust is not good.</td>\n",
              "      <td>0</td>\n",
              "      <td>18</td>\n",
              "    </tr>\n",
              "    <tr>\n",
              "      <th>2</th>\n",
              "      <td>Not tasty and the texture was just nasty.</td>\n",
              "      <td>0</td>\n",
              "      <td>41</td>\n",
              "    </tr>\n",
              "    <tr>\n",
              "      <th>3</th>\n",
              "      <td>Stopped by during the late May bank holiday of...</td>\n",
              "      <td>1</td>\n",
              "      <td>87</td>\n",
              "    </tr>\n",
              "    <tr>\n",
              "      <th>4</th>\n",
              "      <td>The selection on the menu was great and so wer...</td>\n",
              "      <td>1</td>\n",
              "      <td>59</td>\n",
              "    </tr>\n",
              "    <tr>\n",
              "      <th>...</th>\n",
              "      <td>...</td>\n",
              "      <td>...</td>\n",
              "      <td>...</td>\n",
              "    </tr>\n",
              "    <tr>\n",
              "      <th>995</th>\n",
              "      <td>I think food should have flavor and texture an...</td>\n",
              "      <td>0</td>\n",
              "      <td>66</td>\n",
              "    </tr>\n",
              "    <tr>\n",
              "      <th>996</th>\n",
              "      <td>Appetite instantly gone.</td>\n",
              "      <td>0</td>\n",
              "      <td>24</td>\n",
              "    </tr>\n",
              "    <tr>\n",
              "      <th>997</th>\n",
              "      <td>Overall I was not impressed and would not go b...</td>\n",
              "      <td>0</td>\n",
              "      <td>50</td>\n",
              "    </tr>\n",
              "    <tr>\n",
              "      <th>998</th>\n",
              "      <td>The whole experience was underwhelming, and I ...</td>\n",
              "      <td>0</td>\n",
              "      <td>91</td>\n",
              "    </tr>\n",
              "    <tr>\n",
              "      <th>999</th>\n",
              "      <td>Then, as if I hadn't wasted enough of my life ...</td>\n",
              "      <td>0</td>\n",
              "      <td>134</td>\n",
              "    </tr>\n",
              "  </tbody>\n",
              "</table>\n",
              "<p>1000 rows × 3 columns</p>\n",
              "</div>\n",
              "      <button class=\"colab-df-convert\" onclick=\"convertToInteractive('df-5483a213-b650-4c30-947f-4cbc202c6f5f')\"\n",
              "              title=\"Convert this dataframe to an interactive table.\"\n",
              "              style=\"display:none;\">\n",
              "        \n",
              "  <svg xmlns=\"http://www.w3.org/2000/svg\" height=\"24px\"viewBox=\"0 0 24 24\"\n",
              "       width=\"24px\">\n",
              "    <path d=\"M0 0h24v24H0V0z\" fill=\"none\"/>\n",
              "    <path d=\"M18.56 5.44l.94 2.06.94-2.06 2.06-.94-2.06-.94-.94-2.06-.94 2.06-2.06.94zm-11 1L8.5 8.5l.94-2.06 2.06-.94-2.06-.94L8.5 2.5l-.94 2.06-2.06.94zm10 10l.94 2.06.94-2.06 2.06-.94-2.06-.94-.94-2.06-.94 2.06-2.06.94z\"/><path d=\"M17.41 7.96l-1.37-1.37c-.4-.4-.92-.59-1.43-.59-.52 0-1.04.2-1.43.59L10.3 9.45l-7.72 7.72c-.78.78-.78 2.05 0 2.83L4 21.41c.39.39.9.59 1.41.59.51 0 1.02-.2 1.41-.59l7.78-7.78 2.81-2.81c.8-.78.8-2.07 0-2.86zM5.41 20L4 18.59l7.72-7.72 1.47 1.35L5.41 20z\"/>\n",
              "  </svg>\n",
              "      </button>\n",
              "      \n",
              "  <style>\n",
              "    .colab-df-container {\n",
              "      display:flex;\n",
              "      flex-wrap:wrap;\n",
              "      gap: 12px;\n",
              "    }\n",
              "\n",
              "    .colab-df-convert {\n",
              "      background-color: #E8F0FE;\n",
              "      border: none;\n",
              "      border-radius: 50%;\n",
              "      cursor: pointer;\n",
              "      display: none;\n",
              "      fill: #1967D2;\n",
              "      height: 32px;\n",
              "      padding: 0 0 0 0;\n",
              "      width: 32px;\n",
              "    }\n",
              "\n",
              "    .colab-df-convert:hover {\n",
              "      background-color: #E2EBFA;\n",
              "      box-shadow: 0px 1px 2px rgba(60, 64, 67, 0.3), 0px 1px 3px 1px rgba(60, 64, 67, 0.15);\n",
              "      fill: #174EA6;\n",
              "    }\n",
              "\n",
              "    [theme=dark] .colab-df-convert {\n",
              "      background-color: #3B4455;\n",
              "      fill: #D2E3FC;\n",
              "    }\n",
              "\n",
              "    [theme=dark] .colab-df-convert:hover {\n",
              "      background-color: #434B5C;\n",
              "      box-shadow: 0px 1px 3px 1px rgba(0, 0, 0, 0.15);\n",
              "      filter: drop-shadow(0px 1px 2px rgba(0, 0, 0, 0.3));\n",
              "      fill: #FFFFFF;\n",
              "    }\n",
              "  </style>\n",
              "\n",
              "      <script>\n",
              "        const buttonEl =\n",
              "          document.querySelector('#df-5483a213-b650-4c30-947f-4cbc202c6f5f button.colab-df-convert');\n",
              "        buttonEl.style.display =\n",
              "          google.colab.kernel.accessAllowed ? 'block' : 'none';\n",
              "\n",
              "        async function convertToInteractive(key) {\n",
              "          const element = document.querySelector('#df-5483a213-b650-4c30-947f-4cbc202c6f5f');\n",
              "          const dataTable =\n",
              "            await google.colab.kernel.invokeFunction('convertToInteractive',\n",
              "                                                     [key], {});\n",
              "          if (!dataTable) return;\n",
              "\n",
              "          const docLinkHtml = 'Like what you see? Visit the ' +\n",
              "            '<a target=\"_blank\" href=https://colab.research.google.com/notebooks/data_table.ipynb>data table notebook</a>'\n",
              "            + ' to learn more about interactive tables.';\n",
              "          element.innerHTML = '';\n",
              "          dataTable['output_type'] = 'display_data';\n",
              "          await google.colab.output.renderOutput(dataTable, element);\n",
              "          const docLink = document.createElement('div');\n",
              "          docLink.innerHTML = docLinkHtml;\n",
              "          element.appendChild(docLink);\n",
              "        }\n",
              "      </script>\n",
              "    </div>\n",
              "  </div>\n",
              "  "
            ]
          },
          "metadata": {},
          "execution_count": 23
        }
      ]
    },
    {
      "cell_type": "code",
      "source": [
        "data.iloc[data['Review Lettre Count'].idxmax()][0]"
      ],
      "metadata": {
        "colab": {
          "base_uri": "https://localhost:8080/",
          "height": 35
        },
        "id": "FzuRvs225q9D",
        "outputId": "5ad4402e-3c51-4ed0-c2a6-e5aa5a102dd1"
      },
      "execution_count": 25,
      "outputs": [
        {
          "output_type": "execute_result",
          "data": {
            "text/plain": [
              "'The problem I have is that they charge $11.99 for a sandwich that is no bigger than a Subway sub (which offers better and more amount of vegetables).'"
            ],
            "application/vnd.google.colaboratory.intrinsic+json": {
              "type": "string"
            }
          },
          "metadata": {},
          "execution_count": 25
        }
      ]
    },
    {
      "cell_type": "markdown",
      "source": [
        "# pre-processing data (NLTK Text Data Cleaning)"
      ],
      "metadata": {
        "id": "bIpB2om76X5X"
      }
    },
    {
      "cell_type": "code",
      "source": [
        "# data['Review'][0]"
      ],
      "metadata": {
        "id": "tEFwSsn46lV0"
      },
      "execution_count": 40,
      "outputs": []
    },
    {
      "cell_type": "code",
      "source": [
        "# import string\n",
        "# string.punctuation"
      ],
      "metadata": {
        "id": "CCjoTRtbBrCh"
      },
      "execution_count": 29,
      "outputs": []
    },
    {
      "cell_type": "code",
      "source": [
        "import nltk"
      ],
      "metadata": {
        "id": "IBwRAkLYCR2P"
      },
      "execution_count": 32,
      "outputs": []
    },
    {
      "cell_type": "code",
      "source": [
        "from nltk.corpus import stopwords"
      ],
      "metadata": {
        "id": "T_MygHaSCUK-"
      },
      "execution_count": 30,
      "outputs": []
    },
    {
      "cell_type": "code",
      "source": [
        "nltk.download('stopwords')"
      ],
      "metadata": {
        "colab": {
          "base_uri": "https://localhost:8080/"
        },
        "id": "aXQr1gxICkVw",
        "outputId": "f479ef6c-9007-4854-9751-33f87a0e5aef"
      },
      "execution_count": 33,
      "outputs": [
        {
          "output_type": "stream",
          "name": "stderr",
          "text": [
            "[nltk_data] Downloading package stopwords to /root/nltk_data...\n",
            "[nltk_data]   Unzipping corpora/stopwords.zip.\n"
          ]
        },
        {
          "output_type": "execute_result",
          "data": {
            "text/plain": [
              "True"
            ]
          },
          "metadata": {},
          "execution_count": 33
        }
      ]
    },
    {
      "cell_type": "code",
      "source": [
        "print(stopwords.words('english'))"
      ],
      "metadata": {
        "colab": {
          "base_uri": "https://localhost:8080/"
        },
        "id": "gaxqBNC3C0a3",
        "outputId": "d85c4526-5764-436d-99b4-e06a673a42b9"
      },
      "execution_count": 38,
      "outputs": [
        {
          "output_type": "stream",
          "name": "stdout",
          "text": [
            "['i', 'me', 'my', 'myself', 'we', 'our', 'ours', 'ourselves', 'you', \"you're\", \"you've\", \"you'll\", \"you'd\", 'your', 'yours', 'yourself', 'yourselves', 'he', 'him', 'his', 'himself', 'she', \"she's\", 'her', 'hers', 'herself', 'it', \"it's\", 'its', 'itself', 'they', 'them', 'their', 'theirs', 'themselves', 'what', 'which', 'who', 'whom', 'this', 'that', \"that'll\", 'these', 'those', 'am', 'is', 'are', 'was', 'were', 'be', 'been', 'being', 'have', 'has', 'had', 'having', 'do', 'does', 'did', 'doing', 'a', 'an', 'the', 'and', 'but', 'if', 'or', 'because', 'as', 'until', 'while', 'of', 'at', 'by', 'for', 'with', 'about', 'against', 'between', 'into', 'through', 'during', 'before', 'after', 'above', 'below', 'to', 'from', 'up', 'down', 'in', 'out', 'on', 'off', 'over', 'under', 'again', 'further', 'then', 'once', 'here', 'there', 'when', 'where', 'why', 'how', 'all', 'any', 'both', 'each', 'few', 'more', 'most', 'other', 'some', 'such', 'no', 'nor', 'not', 'only', 'own', 'same', 'so', 'than', 'too', 'very', 's', 't', 'can', 'will', 'just', 'don', \"don't\", 'should', \"should've\", 'now', 'd', 'll', 'm', 'o', 're', 've', 'y', 'ain', 'aren', \"aren't\", 'couldn', \"couldn't\", 'didn', \"didn't\", 'doesn', \"doesn't\", 'hadn', \"hadn't\", 'hasn', \"hasn't\", 'haven', \"haven't\", 'isn', \"isn't\", 'ma', 'mightn', \"mightn't\", 'mustn', \"mustn't\", 'needn', \"needn't\", 'shan', \"shan't\", 'shouldn', \"shouldn't\", 'wasn', \"wasn't\", 'weren', \"weren't\", 'won', \"won't\", 'wouldn', \"wouldn't\"]\n"
          ]
        }
      ]
    },
    {
      "cell_type": "code",
      "source": [
        "s = data['Review'][0]\n",
        "s"
      ],
      "metadata": {
        "colab": {
          "base_uri": "https://localhost:8080/",
          "height": 35
        },
        "id": "gm4By1J0DBgn",
        "outputId": "54958b7d-c6cd-477f-d53e-59a7c5dbfcc6"
      },
      "execution_count": 93,
      "outputs": [
        {
          "output_type": "execute_result",
          "data": {
            "text/plain": [
              "'Wow... Loved this place.'"
            ],
            "application/vnd.google.colaboratory.intrinsic+json": {
              "type": "string"
            }
          },
          "metadata": {},
          "execution_count": 93
        }
      ]
    },
    {
      "cell_type": "code",
      "source": [
        "import re\n",
        "s=re.sub('[^a-zA-Z0-9]', \" \", s)\n",
        "s"
      ],
      "metadata": {
        "colab": {
          "base_uri": "https://localhost:8080/",
          "height": 35
        },
        "id": "34jB68x3ELft",
        "outputId": "39619d57-72de-4924-deb4-1df3c057765e"
      },
      "execution_count": 94,
      "outputs": [
        {
          "output_type": "execute_result",
          "data": {
            "text/plain": [
              "'Wow    Loved this place '"
            ],
            "application/vnd.google.colaboratory.intrinsic+json": {
              "type": "string"
            }
          },
          "metadata": {},
          "execution_count": 94
        }
      ]
    },
    {
      "cell_type": "code",
      "source": [
        "s = s.lower()\n",
        "s"
      ],
      "metadata": {
        "colab": {
          "base_uri": "https://localhost:8080/",
          "height": 35
        },
        "id": "R4lVXcLJFU5F",
        "outputId": "e406ed04-a9b0-4521-b462-4ba2abbbbd49"
      },
      "execution_count": 95,
      "outputs": [
        {
          "output_type": "execute_result",
          "data": {
            "text/plain": [
              "'wow    loved this place '"
            ],
            "application/vnd.google.colaboratory.intrinsic+json": {
              "type": "string"
            }
          },
          "metadata": {},
          "execution_count": 95
        }
      ]
    },
    {
      "cell_type": "code",
      "source": [
        "s = s.split()\n",
        "s"
      ],
      "metadata": {
        "colab": {
          "base_uri": "https://localhost:8080/"
        },
        "id": "MQ7ZNJ5RFZ2S",
        "outputId": "2daf1f40-b528-4b35-c205-79c9030133b1"
      },
      "execution_count": 96,
      "outputs": [
        {
          "output_type": "execute_result",
          "data": {
            "text/plain": [
              "['wow', 'loved', 'this', 'place']"
            ]
          },
          "metadata": {},
          "execution_count": 96
        }
      ]
    },
    {
      "cell_type": "code",
      "source": [
        "temp = []\n",
        "\n",
        "for word in s:\n",
        "  if word not in stopwords.words('english'):\n",
        "    temp.append(word)\n",
        "\n",
        "temp"
      ],
      "metadata": {
        "colab": {
          "base_uri": "https://localhost:8080/"
        },
        "id": "0bSft-FAFyKp",
        "outputId": "0f27f289-4b11-454d-90b5-a0cee71c0acf"
      },
      "execution_count": 99,
      "outputs": [
        {
          "output_type": "execute_result",
          "data": {
            "text/plain": [
              "['wow', 'loved', 'place']"
            ]
          },
          "metadata": {},
          "execution_count": 99
        }
      ]
    },
    {
      "cell_type": "code",
      "source": [
        "# [word for word in s if word not in stopwords.words('english')]"
      ],
      "metadata": {
        "id": "gACjfxcYMrDJ"
      },
      "execution_count": 100,
      "outputs": []
    },
    {
      "cell_type": "code",
      "source": [
        "s = ' '.join(temp)\n",
        "s"
      ],
      "metadata": {
        "colab": {
          "base_uri": "https://localhost:8080/",
          "height": 35
        },
        "id": "MnRO69QlGzw2",
        "outputId": "d53479b4-1fd1-4aa3-d8e7-d91368d66a03"
      },
      "execution_count": 81,
      "outputs": [
        {
          "output_type": "execute_result",
          "data": {
            "text/plain": [
              "'wow loved place'"
            ],
            "application/vnd.google.colaboratory.intrinsic+json": {
              "type": "string"
            }
          },
          "metadata": {},
          "execution_count": 81
        }
      ]
    },
    {
      "cell_type": "code",
      "source": [
        "from nltk.stem import PorterStemmer"
      ],
      "metadata": {
        "id": "9l0nB3wkIHuQ"
      },
      "execution_count": 82,
      "outputs": []
    },
    {
      "cell_type": "code",
      "source": [
        "ps = PorterStemmer()\n",
        "s = ps.stem(s)\n",
        "s"
      ],
      "metadata": {
        "colab": {
          "base_uri": "https://localhost:8080/",
          "height": 35
        },
        "id": "qrS6KqYuIkkb",
        "outputId": "d23de011-192b-46ef-c38a-40221f33b28e"
      },
      "execution_count": 83,
      "outputs": [
        {
          "output_type": "execute_result",
          "data": {
            "text/plain": [
              "'wow loved plac'"
            ],
            "application/vnd.google.colaboratory.intrinsic+json": {
              "type": "string"
            }
          },
          "metadata": {},
          "execution_count": 83
        }
      ]
    },
    {
      "cell_type": "code",
      "source": [
        "from sklearn.feature_extraction.text import CountVectorizer"
      ],
      "metadata": {
        "id": "eUs0Ru82Jit0"
      },
      "execution_count": 84,
      "outputs": []
    },
    {
      "cell_type": "code",
      "source": [
        "cv = CountVectorizer()\n",
        "cv.fit_transform(s.split()).toarray()"
      ],
      "metadata": {
        "colab": {
          "base_uri": "https://localhost:8080/"
        },
        "id": "MxlQQof0Juyr",
        "outputId": "92fbfe33-182b-4f9d-a828-ce333ce205a0"
      },
      "execution_count": 88,
      "outputs": [
        {
          "output_type": "execute_result",
          "data": {
            "text/plain": [
              "array([[0, 0, 1],\n",
              "       [1, 0, 0],\n",
              "       [0, 1, 0]])"
            ]
          },
          "metadata": {},
          "execution_count": 88
        }
      ]
    },
    {
      "cell_type": "markdown",
      "source": [
        "# putting it all together"
      ],
      "metadata": {
        "id": "-1BY3oPUKqcs"
      }
    },
    {
      "cell_type": "code",
      "source": [
        "corpus = []\n",
        "\n",
        "for i in range (len(data)):\n",
        "  s = re.sub('^[a-zA-Z]','',data['Review'][i])\n",
        "  s = s.lower()\n",
        "  s = s.split()\n",
        "  s = [word for word in s if word not in stopwords.words('english')]\n",
        "  s = ' '.join(s)\n",
        "  s = ps.stem(s)\n",
        "  corpus.append(s)\n",
        "\n",
        "\n",
        "corpus"
      ],
      "metadata": {
        "colab": {
          "base_uri": "https://localhost:8080/"
        },
        "id": "uCiriv_LLjt4",
        "outputId": "7315b47f-ad83-4d82-bb13-049793e2fd7b"
      },
      "execution_count": 109,
      "outputs": [
        {
          "output_type": "execute_result",
          "data": {
            "text/plain": [
              "['ow... loved place.',\n",
              " 'rust good.',\n",
              " 'ot tasty texture nasty.',\n",
              " 'topped late may bank holiday rick steve recommendation loved it.',\n",
              " 'selection menu great prices.',\n",
              " 'ow getting angry want damn pho.',\n",
              " 'oneslty taste fresh.)',\n",
              " 'potatoes like rubber could tell made ahead time kept warmer.',\n",
              " 'fries great too.',\n",
              " 'great touch.',\n",
              " 'ervice prompt.',\n",
              " 'ould go back.',\n",
              " 'cashier care ever say still ended wayyy overpriced.',\n",
              " 'tried cape cod ravoli, chicken, cranberry...mmmm!',\n",
              " 'disgusted pretty sure human hair.',\n",
              " 'shocked signs indicate cash only.',\n",
              " 'ighly recommended.',\n",
              " 'aitress little slow service.',\n",
              " 'place worth time, let alone vegas.',\n",
              " 'id like all.',\n",
              " 'burrittos blah!',\n",
              " 'food, amazing.',\n",
              " 'ervice also cute.',\n",
              " 'could care less... interior beautiful.',\n",
              " 'performed.',\n",
              " \"hat's right....the red velvet cake.....ohhh stuff good.\",\n",
              " '- never brought salad asked for.',\n",
              " 'hole wall great mexican street tacos, friendly staff.',\n",
              " 'ook hour get food 4 tables restaurant food luke warm, sever running around like totally overwhelmed.',\n",
              " 'worst salmon sashimi.',\n",
              " 'lso combos like burger, fries, beer 23 decent deal.',\n",
              " 'like final blow!',\n",
              " 'found place accident could happier.',\n",
              " 'eems like good quick place grab bite familiar pub food, favor look elsewhere.',\n",
              " 'verall, like place lot.',\n",
              " 'redeeming quality restaurant inexpensive.',\n",
              " 'mple portions good prices.',\n",
              " 'oor service, waiter made feel like stupid every time came table.',\n",
              " 'first visit hiro delight!',\n",
              " 'ervice sucks.',\n",
              " 'shrimp tender moist.',\n",
              " 'deal good enough would drag establishment again.',\n",
              " 'ard judge whether sides good grossed melted styrofoam want eat fear getting sick.',\n",
              " 'n positive note, server attentive provided great service.',\n",
              " 'rozen pucks disgust, worst people behind register.',\n",
              " 'thing like prime rib dessert section.',\n",
              " \"t's bad food damn generic.\",\n",
              " 'burger good beef, cooked right.',\n",
              " 'f want sandwich go firehouse!!!!!',\n",
              " 'side greek salad greek dressing tasty, pita hummus refreshing.',\n",
              " 'e ordered duck rare pink tender inside nice char outside.',\n",
              " 'e came running us realized husband left sunglasses table.',\n",
              " 'heir chow mein good!',\n",
              " 'hey horrible attitudes towards customers, talk one customers enjoy food.',\n",
              " 'portion huge!',\n",
              " 'oved it...friendly servers, great food, wonderful imaginative menu.',\n",
              " 'heart attack grill downtown vegas absolutely flat-lined excuse restaurant.',\n",
              " 'ot much seafood like 5 strings pasta bottom.',\n",
              " 'salad right amount sauce power scallop, perfectly cooked.',\n",
              " 'ripped banana ripped, petrified tasteless.',\n",
              " 'least think refill water struggle wave 10 minutes.',\n",
              " 'place receives stars appetizers!!!',\n",
              " 'cocktails handmade delicious.',\n",
              " \"e'd definitely go back again.\",\n",
              " 'e glad found place.',\n",
              " 'reat food service, huge portions give military discount.',\n",
              " 'lways great time dos gringos!',\n",
              " 'pdate.....went back second time still amaz',\n",
              " 'e got food apparently never heard salt batter fish chewy.',\n",
              " 'great way finish great.',\n",
              " 'deal included 5 tastings 2 drinks, jeff went beyond expected.',\n",
              " '- really, really good rice, time.',\n",
              " 'service meh.',\n",
              " 'took 30 min get milkshake, nothing chocolate milk.',\n",
              " 'guess known place would suck, inside excalibur, use common sense.',\n",
              " 'scallop dish quite appalling value well.',\n",
              " '2 times - bad customer service !',\n",
              " 'sweet potato fries good seasoned well.',\n",
              " \"oday second time i've lunch buffet pretty good.\",\n",
              " 'much good food vegas feel cheated wasting eating opportunity going rice company.',\n",
              " \"oming like experiencing underwhelming relationship parties can't wait person ask break up.\",\n",
              " 'alked place smelled like old grease trap 2 others eating.',\n",
              " 'turkey roast beef bland.',\n",
              " 'place it!',\n",
              " 'pan cakes everyone raving taste like sugary disaster tailored palate six year old.',\n",
              " 'love pho spring rolls oh yummy try.',\n",
              " 'poor batter meat ratio made chicken tenders unsatisfying.',\n",
              " 'say food amazing!!!',\n",
              " 'melets die for!',\n",
              " 'verything fresh delicious!',\n",
              " 'n summary, largely disappointing dining experience.',\n",
              " \"t's like really sexy party mouth, outrageously flirting hottest person party.\",\n",
              " 'ever hard rock casino before, never ever step forward again!',\n",
              " 'est breakfast buffet!!!',\n",
              " 'ay bye bye tip lady!',\n",
              " \"e'll never go again.\",\n",
              " 'ill back again!',\n",
              " 'ood arrived quickly!',\n",
              " 'good.',\n",
              " 'n side, cafe serves really good food.',\n",
              " 'ur server fantastic found wife loves roasted garlic bone marrow, added extra meal another marrow go!',\n",
              " \"good thing waiter, helpful kept bloddy mary's coming.\",\n",
              " 'est buffet town, price cannot beat it.',\n",
              " 'loved mussels cooked wine reduction, duck tender, potato dishes delicious.',\n",
              " 'one better buffets to.',\n",
              " 'went tigerlilly fantastic afternoon!',\n",
              " 'food delicious, bartender attentive personable got great deal!',\n",
              " 'ambience wonderful music playing.',\n",
              " 'ill go back next trip out.',\n",
              " 'ooooo good!!',\n",
              " \"eal sushi lovers, let's honest - yama good.\",\n",
              " 'least 40min passed us ordering food arriving, busy.',\n",
              " 'really fantastic thai restaurant definitely worth visit.',\n",
              " 'ice, spicy tender.',\n",
              " 'ood prices.',\n",
              " 'heck out.',\n",
              " 'pretty gross!',\n",
              " \"'ve better atmosphere.\",\n",
              " 'ind hard mess steak did.',\n",
              " 'lthough much liked look sound place, actual experience bit disappointing.',\n",
              " 'know place managed served blandest food ever eaten preparing indian cuisine.',\n",
              " 'orst service boot, least worries.',\n",
              " 'ervice fine waitress friendly.',\n",
              " \"guys steaks, steak loving son steak best worst places said best steak he's ever eaten.\",\n",
              " 'e thought venture away get good sushi, place really hit spot night.',\n",
              " 'ost staff were, lack better word, bitches!',\n",
              " \"land... liking place number reasons want waste time bad reviewing.. i'll leave that...\",\n",
              " 'henomenal food, service ambiance.',\n",
              " 'return.',\n",
              " \"efinitely worth venturing strip pork belly, return next time i'm vegas.\",\n",
              " 'place way overpriced mediocre food.',\n",
              " 'enne vodka excellent!',\n",
              " 'hey good selection food including massive meatloaf sandwich, crispy chicken wrap, delish tuna melt tasty burgers.',\n",
              " 'management rude.',\n",
              " 'elicious nyc bagels, good selections cream cheese, real lox capers even.',\n",
              " 'reat subway, fact good come every subway meet expectations.',\n",
              " 'seriously solid breakfast here.',\n",
              " 'one best bars food vegas.',\n",
              " 'e extremely rude really, many restaurants would love dine weekend vegas.',\n",
              " 'drink never empty made really great menu suggestions.',\n",
              " \"on't it!!!!\",\n",
              " 'waiter helpful friendly rarely checked us.',\n",
              " 'husband ate lunch disappointed food service.',\n",
              " 'nd red curry much bamboo shoots tasty me.',\n",
              " 'ice blanket moz top feel like done cover subpar food.',\n",
              " 'bathrooms clean place well decorated.',\n",
              " 'menu always changing, food quality going & service extremely slow.',\n",
              " 'service little slow , considering served 3 people servers food coming slow pace.',\n",
              " 'give 2 thumb',\n",
              " 'e watched waiter pay lot attention tables ignore us.',\n",
              " 'fiancé came middle day greeted seated right away.',\n",
              " 'great restaurant mandalay bay.',\n",
              " 'e waited forty five minutes vain.',\n",
              " 'rostini came salad stale.',\n",
              " 'ome highlights : great quality nigiri here!',\n",
              " 'staff friendly joint always clean.',\n",
              " 'different cut piece day still wonderful tender well well flavored.',\n",
              " \"ordered voodoo pasta first time i'd really excellent pasta since going gluten free several years ago.\",\n",
              " 'place good.',\n",
              " 'nfortunately, must hit bakery leftover day everything ordered stale.',\n",
              " 'came back today since relocated still impressed.',\n",
              " 'seated immediately.',\n",
              " 'heir menu diverse, reasonably priced.',\n",
              " 'void cost!',\n",
              " 'estaurant always full never wait.',\n",
              " 'elicious!!',\n",
              " 'place hands-down one best places eat phoenix metro area.',\n",
              " 'go looking good food...',\n",
              " \"'ve never treated bad.\",\n",
              " 'acon hella salty.',\n",
              " 'e also ordered spinach avocado salad, ingredients sad dressing literally zero taste.',\n",
              " 'really vegas fine dining used be, right menus handed ladies prices listed.',\n",
              " 'waitresses friendly.',\n",
              " 'ordy, khao soi dish missed curry lovers!',\n",
              " 'verything menu terrific also thrilled made amazing accommodations vegetarian daughter.',\n",
              " \"erhaps caught night judging reviews, i'm inspired go back.\",\n",
              " 'service leaves lot desired.',\n",
              " 'atmosphere modern hip, maintaining touch coziness.',\n",
              " 'ot weekly haunt, definitely place come back every while.',\n",
              " 'e literally sat 20 minutes one asking take order.',\n",
              " 'burger absolutely flavor - meat totally bland, burger overcooked charcoal flavor.',\n",
              " 'also decided send back waitress looked like verge heart attack.',\n",
              " 'dressed treated rudely!',\n",
              " 'probably dirt.',\n",
              " 'ove place, hits spot want something healthy lacking quantity flavor.',\n",
              " 'ordered lemon raspberry ice cocktail also incredible.',\n",
              " 'food sucked, expected sucked could imagined.',\n",
              " 'nteresting decor.',\n",
              " 'hat really like crepe station.',\n",
              " 'lso served hot bread butter, home made potato chips bacon bits top....very original good.',\n",
              " 'ou watch preparing delicious food!)',\n",
              " 'oth egg rolls fantastic.',\n",
              " 'hen order arrived, one gyros missing.',\n",
              " 'salad wings, ice cream dessert left feeling quite satisfied.',\n",
              " \"'m really sure joey's voted best hot dog valley readers phoenix magazine.\",\n",
              " 'best place go tasty bowl pho!',\n",
              " 'live music fridays totally blows.',\n",
              " \"'ve never insulted felt disrespected.\",\n",
              " 'ery friendly staff.',\n",
              " 'worth drive.',\n",
              " 'heard good things place, exceeding every hope could dreamed of.',\n",
              " 'ood great serivce!',\n",
              " 'warm beer help.',\n",
              " 'reat brunch spot.',\n",
              " 'ervice friendly inviting.',\n",
              " 'ery good lunch spot.',\n",
              " \"'ve lived since 1979 first (and last) time i've stepped foot place.\",\n",
              " 'worst experience ever.',\n",
              " 'ust night place.',\n",
              " 'sides delish - mixed mushrooms, yukon gold puree, white corn - beateous.',\n",
              " 'f bug never showed would given 4 sure, side wall bug climbing kitchen.',\n",
              " \"10 minutes, we're waiting salad realized coming time soon.\",\n",
              " 'friend loved salmon tartar.',\n",
              " \"on't go back.\",\n",
              " 'xtremely tasty!',\n",
              " 'aitress good though!',\n",
              " 'oggy good.',\n",
              " 'jamaican mojitos delicious.',\n",
              " 'hich small worth price.',\n",
              " '- food rich order accordingly.',\n",
              " 'shower area outside rinse, take full shower, unless mind nude everyone see!',\n",
              " 'service bit lacking.',\n",
              " 'obster bisque, bussell sprouts, risotto, filet needed salt pepper..and course none tables.',\n",
              " 'opefully bodes going business someone cook come in.',\n",
              " 'either cold, enough flavor bad.',\n",
              " 'loved bacon wrapped dates.',\n",
              " 'unbelievable bargain!',\n",
              " 'folks otto always make us feel welcome special.',\n",
              " '\"mains,\" also uninspired.',\n",
              " 'place first pho amazing!!',\n",
              " 'wonderful experience made place must-stop whenever town again.',\n",
              " \"f food bad enough you, enjoy dealing world's worst/annoying drunk people.\",\n",
              " 'ery fun chef.',\n",
              " 'rdered double cheeseburger & got single patty falling apart (picture uploaded) yeah, still sucks.',\n",
              " \"reat place couple drinks watch sporting events walls covered tv's.\",\n",
              " \"f possible give zero stars, they'd it.\",\n",
              " 'descriptions said \"yum yum sauce\" another said \"eel sauce\", yet another said \"spicy mayo\"...well none rolls sauces them.',\n",
              " \"'d say would hardest decision... honestly, m's dishes taste supposed taste (amazing).\",\n",
              " 'f rolled eyes may stayed... sure go back try again.',\n",
              " 'veryone attentive, providing excellent customer service.',\n",
              " 'orrible - waste time money.',\n",
              " 'ow dish quite flavourful.',\n",
              " 'time side restaurant almost empty excuse.',\n",
              " '(it busy either) also, building freezing cold.',\n",
              " 'ike reviewer said \"you pay eat place again.\"',\n",
              " '-drinks took close 30 minutes come one point.',\n",
              " 'eriously flavorful delights, folks.',\n",
              " 'uch better ayce sushi place went vegas.',\n",
              " 'lighting dark enough set mood.',\n",
              " 'ased sub-par service received effort show gratitude business going back.',\n",
              " \"wner's really great people.!\",\n",
              " 'nothing privileged working/eating there.',\n",
              " 'greek dressing creamy flavorful.',\n",
              " 'verall, think would take parents place made similar complaints silently felt too.',\n",
              " 'ow pizza good peanut sauce tasty.',\n",
              " 'e 7 table service pretty fast.',\n",
              " 'antastic service here.',\n",
              " \"well would've given godfathers zero stars possible.\",\n",
              " 'hey know make here.',\n",
              " 'ery tough short flavor!',\n",
              " 'hope place sticks around.',\n",
              " 'bars vegas, ever recall charged tap water.',\n",
              " 'restaurant atmosphere exquisite.',\n",
              " 'ood service, clean, inexpensive, boot!',\n",
              " 'seafood fresh generous portion.',\n",
              " 'lus, 8 bucks.',\n",
              " 'service par, either.',\n",
              " 'hus far, visited twice food absolutely delicious time.',\n",
              " 'ust good year ago!',\n",
              " 'self proclaimed coffee cafe, wildly disappointed.',\n",
              " 'veggitarian platter world!',\n",
              " 'ou cant go wrong food here.',\n",
              " \"ou can't beat that.\",\n",
              " 'topped place madison ironman, friendly, kind staff.',\n",
              " 'chefs friendly good job.',\n",
              " \"'ve better, dedicated boba tea spots, even jenni pho.\",\n",
              " 'liked patio service outstanding.',\n",
              " 'goat taco skimp meat wow flavor!',\n",
              " 'think',\n",
              " 'mac salad pretty bland getting again.',\n",
              " \"went bachi burger friend's recommendation disappointed.\",\n",
              " 'ervice stinks here!',\n",
              " 'waited waited.',\n",
              " 'place quality sushi, quality restaurant.',\n",
              " 'would definitely recommend wings well pizza.',\n",
              " 'reat pizza salads!',\n",
              " 'hings went wrong: - burned saganaki.',\n",
              " 'e waited hour breakfast could done 100 times better home.',\n",
              " 'place amazing!',\n",
              " 'hate disagree fellow yelpers, husband disappointed place.',\n",
              " 'aited 2 hours & never got either pizzas many around us came later did!',\n",
              " 'ust know slow.',\n",
              " 'staff great, food delish, incredible beer selection.',\n",
              " 'live neighborhood disappointed back here, convenient location.',\n",
              " 'know pulled pork could soooo delicious.',\n",
              " 'ou get incredibly fresh fish, prepared care.',\n",
              " 'efore go gave 1 star rating please know third time eating bachi burger writing review.',\n",
              " 'love fact everything menu worth it.',\n",
              " 'ever dining place!',\n",
              " 'food excellent service good.',\n",
              " 'ood beer & drink selection good food selection.',\n",
              " 'lease stay away shrimp stir fried noodles.',\n",
              " 'potato chip order sad... could probably count many chips box probably around 12.',\n",
              " 'ood really boring.',\n",
              " 'ood service-check!',\n",
              " 'greedy corporation never see another dime me!',\n",
              " 'ill never, ever go back.',\n",
              " \"much i'd like go back, can't get passed atrocious service never return.\",\n",
              " 'n summer, dine charming outdoor patio - delightful.',\n",
              " 'expect good!',\n",
              " 'antastic food!',\n",
              " 'ordered toasted english muffin came untoasted.',\n",
              " 'food good.',\n",
              " 'ever going back.',\n",
              " 'reat food price, high quality house made.',\n",
              " 'bus boy hand rude.',\n",
              " 'point, friends basically figured place joke mind making publicly loudly known.',\n",
              " 'ack good bbq, lighter fare, reasonable pricing tell public back old ways.',\n",
              " \"nd considering two us left full happy $20, can't go wrong.\",\n",
              " 'bread made in-house!',\n",
              " 'downside service.',\n",
              " \"lso, fries without doubt worst fries i've ever had.\",\n",
              " 'ervice exceptional food good reviews.',\n",
              " 'couple months later, returned amazing meal.',\n",
              " 'avorite place town shawarrrrrrma!!!!!!',\n",
              " 'black eyed peas sweet potatoes... unreal!',\n",
              " 'ou disappointed.',\n",
              " 'hey could serve vinaigrette may make better overall dish, still good.',\n",
              " \"go far many places i've never seen restaurant serves 1 egg breakfast, especially $4.00.\",\n",
              " 'hen mom got home immediately got sick bites salad.',\n",
              " 'servers pleasant deal always honor pizza hut coupons.',\n",
              " 'oth truly unbelievably good, glad went back.',\n",
              " 'e fantastic service, pleased atmosphere.',\n",
              " 'verything gross.',\n",
              " 'love place.',\n",
              " 'reat service food.',\n",
              " 'irst - bathrooms location dirty- seat covers replenished & plain yucky!!!',\n",
              " 'burger... got \"gold standard\" $17 burger kind disappointed.',\n",
              " 'mg, food delicioso!',\n",
              " 'nothing authentic place.',\n",
              " 'spaghetti nothing special whatsoever.',\n",
              " 'f dishes, salmon best, great.',\n",
              " 'vegetables fresh sauce feels like authentic thai.',\n",
              " \"t's worth driving tucson!\",\n",
              " \"selection probably worst i've seen vegas.....there none.\",\n",
              " 'retty good beer selection too.',\n",
              " 'place like chipotle, better.',\n",
              " 'lassy/warm atmosphere, fun fresh appetizers, succulent steaks (baseball steak!!!!!',\n",
              " '5 stars brick oven bread app!',\n",
              " 'eaten multiple times, time food delicious.',\n",
              " 'e sat another ten minutes finally gave left.',\n",
              " 'e terrible!',\n",
              " 'veryone treated equally special.',\n",
              " 'take 30 min pancakes eggs.',\n",
              " 'delicious!!!',\n",
              " 'n good side, staff genuinely pleasant enthusiastic - real treat.',\n",
              " \"adly, gordon ramsey's steak place shall sharply avoid next trip vegas.\",\n",
              " 'always evening wonderful food delicious!',\n",
              " \"est fish i've ever life!\",\n",
              " '(the bathroom next door nice.)',\n",
              " 'buffet small food offered bland.',\n",
              " 'outstanding little restaurant best food ever tasted.',\n",
              " 'retty cool would say.',\n",
              " \"efinitely turn & doubt i'll back unless someone else buying.\",\n",
              " 'erver great job handling large rowdy table.',\n",
              " 'find wasting food despicable, food.',\n",
              " 'wife lobster bisque soup lukewarm.',\n",
              " 'ould come back sushi craving vegas.',\n",
              " 'staff great, ambiance great.',\n",
              " 'e deserves 5 stars.',\n",
              " 'left stomach ache felt sick rest day.',\n",
              " 'hey dropped ball.',\n",
              " 'dining space tiny, elegantly decorated comfortable.',\n",
              " 'hey customize order way like, usual eggplant green bean stir fry, love it!',\n",
              " 'nd beans rice mediocre best.',\n",
              " 'est tacos town far!!',\n",
              " 'took back money got outta there.',\n",
              " 'n interesting part town, place amazing.',\n",
              " 'ude & inconsiderate management.',\n",
              " 'staff friendly, wait times served horrible, one even says hi first 10 minutes.',\n",
              " 'back.',\n",
              " 'hey great dinners.',\n",
              " 'service outshining & definitely recommend halibut.',\n",
              " 'food terrible.',\n",
              " 'ill never ever go back told many people happened.',\n",
              " 'recommend unless car breaks front starving.',\n",
              " \"come back every time i'm vegas.\",\n",
              " 'place deserves one star 90% food.',\n",
              " 'disgrace.',\n",
              " 'ef coming back bowl next tim',\n",
              " 'f want healthy authentic ethic food, try place.',\n",
              " 'continue come ladies night andddd date night ... highly recommend place anyone area.',\n",
              " 'several times past, experience always great.',\n",
              " 'e walked away stuffed happy first vegas buffet experience.',\n",
              " 'ervice excellent prices pretty reasonable considering vegas located inside crystals shopping mall aria.',\n",
              " 'summarize... food incredible, nay, transcendant... nothing brings joy quite like memory pneumatic condiment dispenser.',\n",
              " \"'m probably one people ever go ians like it.\",\n",
              " 'ids pizza always hit lots great side dish options kiddos!',\n",
              " 'ervice perfect family atmosphere nice see.',\n",
              " 'ooked perfection service impeccable.',\n",
              " 'one simply disappointment.',\n",
              " 'verall, disappointed quality food bouchon.',\n",
              " \"accountant know i'm getting screwed!\",\n",
              " 'reat place eat, reminds little mom pop shops san francisco bay area.',\n",
              " 'oday first taste buldogis gourmet hot dog tell ever thought possible.',\n",
              " 'eft frustrated.',\n",
              " \"'ll definitely soon again.\",\n",
              " 'ood really good got full petty fast.',\n",
              " 'ervice fantastic.',\n",
              " 'otal waste time.',\n",
              " 'know kind best iced tea.',\n",
              " 'ome hungry, leave happy stuffed!',\n",
              " 'service, give stars.',\n",
              " 'assure disappointed.',\n",
              " 'take little bad service food sucks.',\n",
              " 'ave trying eat crust (teeth still sore).',\n",
              " 'ut completely grossed out.',\n",
              " 'really enjoyed eating here.',\n",
              " 'irst time going think quickly become regular.',\n",
              " 'ur server nice, even though looked little overwhelmed needs, stayed professional friendly end.',\n",
              " 'rom dinner companions told me...everything fresh nice texture taste.',\n",
              " 'n ground, right next table large, smeared, been-stepped-in-and-tracked-everywhere pile green bird poop.',\n",
              " \"urthermore, can't even find hours operation website!\",\n",
              " \"e've tried like place 10+ times think we're done them.\",\n",
              " 'hat mistake was!',\n",
              " 'complaints!',\n",
              " \"seriously good pizza i'm expert/connisseur topic.\",\n",
              " 'aiter jerk.',\n",
              " 'trike 2, wants rushed.',\n",
              " \"hese nicest restaurant owners i've ever come across.\",\n",
              " 'never come again.',\n",
              " 'e loved biscuits!!!',\n",
              " 'ervice quick friendly.',\n",
              " 'rdered appetizer took 40 minutes pizza another 10 minutes.',\n",
              " 'absolutley fantastic.',\n",
              " 'huge awkward 1.5lb piece cow 3/4ths gristle fat.',\n",
              " 'efinitely come back again.',\n",
              " 'like steiners dark feels like bar.',\n",
              " 'ow spicy delicious.',\n",
              " 'f familiar, check out.',\n",
              " \"'ll take business dinner dollars elsewhere.\",\n",
              " \"'d love go back.\",\n",
              " 'nyway, fs restaurant wonderful breakfast/lunch.',\n",
              " 'othing special.',\n",
              " 'ach day week different deal delicious!',\n",
              " 'ot mention combination pears, almonds bacon big winner!',\n",
              " 'ill back.',\n",
              " 'auce tasteless.',\n",
              " 'food delicious spicy enough, sure ask spicier prefer way.',\n",
              " 'ribeye steak cooked perfectly great mesquite flavor.',\n",
              " \"think we'll going back anytime soon.\",\n",
              " 'ood gooodd.',\n",
              " 'far sushi connoisseur definitely tell difference good food bad food certainly bad food.',\n",
              " 'insulted.',\n",
              " 'last 3 times lunch bad.',\n",
              " 'chicken wings contained driest chicken meat ever eaten.',\n",
              " 'food good enjoyed every mouthful, enjoyable relaxed venue couples small family groups etc.',\n",
              " 'argile - think great.',\n",
              " 'est tater tots southwest.',\n",
              " 'e loved place.',\n",
              " 'efinitely worth $3 paid.',\n",
              " 'vanilla ice cream creamy smooth profiterole (choux) pastry fresh enough.',\n",
              " 'az time new spot.',\n",
              " 'manager worst.',\n",
              " 'inside really quite nice clean.',\n",
              " 'food outstanding prices reasonable.',\n",
              " \"think i'll running back carly's anytime soon food.\",\n",
              " 'due fact took 20 minutes acknowledged, another 35 minutes get food...and kept forgetting things.',\n",
              " 'ove margaritas, too!',\n",
              " 'first vegas buffet disappoint.',\n",
              " 'ery good, though!',\n",
              " 'one note ventilation could use upgrading.',\n",
              " 'reat pork sandwich.',\n",
              " \"on't waste time here.\",\n",
              " 'otal letdown, would much rather go camelback flower shop cartel coffee.',\n",
              " \"hird, cheese friend's burger cold.\",\n",
              " 'e enjoy pizza brunch.',\n",
              " 'steaks well trimmed also perfectly cooked.',\n",
              " 'e group 70+ claimed would 40 handled us beautifully.',\n",
              " 'loved it!',\n",
              " 'e asked bill leave without eating bring either.',\n",
              " \"place jewel las vegas, exactly i've hoping find nearly ten years living here.\",\n",
              " 'eafood limited boiled shrimp crab legs crab legs definitely taste fresh.',\n",
              " 'selection food best.',\n",
              " 'elicious absolutely back!',\n",
              " 'small family restaurant, fine dining establishment.',\n",
              " 'hey toro tartare cavier extraordinary liked thinly sliced wagyu white truffle.',\n",
              " 'dont think back long time.',\n",
              " 'attached gas station, rarely good sign.',\n",
              " 'ow awesome that.',\n",
              " 'back many times soon.',\n",
              " 'menu much good stuff could decide!',\n",
              " 'orse all, humiliated worker right front me..bunch horrible name callings.',\n",
              " 'onclusion: filling meals.',\n",
              " 'heir daily specials always hit group.',\n",
              " 'nd tragedy struck.',\n",
              " 'pancake also really good pretty large that.',\n",
              " 'first crawfish experience, delicious!',\n",
              " 'heir monster chicken fried steak eggs time favorite.',\n",
              " 'aitress sweet funny.',\n",
              " \"also taste mom's multi-grain pumpkin pancakes pecan butter amazing, fluffy, delicious!\",\n",
              " \"'d rather eat airline food, seriously.\",\n",
              " 'ant say enough good things place.',\n",
              " 'ambiance incredible.',\n",
              " 'waitress manager friendly.',\n",
              " 'would recommend place.',\n",
              " 'verall impressed noca.',\n",
              " 'gyro basically lettuce only.',\n",
              " 'errible service!',\n",
              " 'horoughly disappointed!',\n",
              " 'much pasta, love homemade /hand made pastas thin pizzas here.',\n",
              " 'ive try, happy did.',\n",
              " 'far best cheesecurds ever had!',\n",
              " 'easonably priced also!',\n",
              " 'verything perfect night in.',\n",
              " 'food good typical bar food.',\n",
              " 'drive get there.',\n",
              " 'first glance lovely bakery cafe - nice ambiance, clean, friendly staff.',\n",
              " 'nyway, think go back there.',\n",
              " 'oint finger item menu, order disappointed.',\n",
              " 'h thing beauty, restaurant.',\n",
              " 'f gone go now!',\n",
              " 'greasy, unhealthy meal.',\n",
              " 'irst time might last.',\n",
              " 'hose burgers amazing.',\n",
              " 'imilarly, delivery man say word apology food 45 minutes late.',\n",
              " 'nd way expensive.',\n",
              " 'e sure order dessert, even need pack to-go - tiramisu cannoli die for.',\n",
              " \"first time can't wait next.\",\n",
              " 'bartender also nice.',\n",
              " 'verything good tasty!',\n",
              " 'place two thumbs up....way up.',\n",
              " 'best place vegas breakfast (just check sat, sun.',\n",
              " 'f love authentic mexican food want whole bunch interesting, yet delicious meats choose from, need try place.',\n",
              " 'errible management.',\n",
              " 'n excellent new restaurant experienced frenchman.',\n",
              " 'f zero stars would give zero stars.',\n",
              " 'reat steak, great sides, great wine, amazing desserts.',\n",
              " 'orst martini ever!',\n",
              " 'steak shrimp opinion best entrees gc.',\n",
              " 'opportunity today sample amazing pizzas!',\n",
              " 'e waited thirty minutes seated (although 8 vacant tables folks waiting).',\n",
              " 'yellowtail carpaccio melt mouth fresh.',\n",
              " 'try going back even empty.',\n",
              " \"o, i'm going eat potato found strangers hair it.\",\n",
              " 'ust spicy enough.. perfect actually.',\n",
              " 'ast night second time dining happy decided go back!',\n",
              " 'ot even \"hello, right you.\"',\n",
              " 'desserts bit strange.',\n",
              " 'boyfriend came first time recent trip vegas could pleased quality food service.',\n",
              " 'really recommend place, go wrong donut place!',\n",
              " 'ice ambiance.',\n",
              " 'would recommend saving room this!',\n",
              " 'guess maybe went night disgraceful.',\n",
              " 'owever, recent experience particular location good.',\n",
              " 'know like restaurants all, something here!',\n",
              " 'void establishment!',\n",
              " 'think restaurant suffers trying hard enough.',\n",
              " 'tapas dishes delicious!',\n",
              " '*heart* place.',\n",
              " 'salad bland vinegrette baby greens hearts palm.',\n",
              " 'fter two felt disgusting.',\n",
              " 'good time!',\n",
              " 'believe place great stop huge belly hankering sushi.',\n",
              " 'enerous portions great taste.',\n",
              " 'never go back place never ever recommended place anyone!',\n",
              " 'servers went back forth several times, even much \"are helped?\"',\n",
              " 'ood delicious!',\n",
              " 'n hour... seriously?',\n",
              " 'consider theft.',\n",
              " 'ew... location needs complete overhaul.',\n",
              " 'e recently witnessed poor quality management towards guests well.',\n",
              " 'aited waited waited.',\n",
              " 'e also came back check us regularly, excellent service.',\n",
              " 'ur server super nice checked us many times.',\n",
              " 'pizza tasted old, super chewy good way.',\n",
              " 'swung give try deeply disappointed.',\n",
              " 'ervice good company better!',\n",
              " 'staff also friendly efficient.',\n",
              " \"service: i'm fan, quick served nice folks.\",\n",
              " 'oy sucker dry!!.',\n",
              " 'ver rated.',\n",
              " 'f look authentic thai food, go else where.',\n",
              " 'heir steaks 100% recommended!',\n",
              " 'fter pulled car waited another 15 minutes acknowledged.',\n",
              " 'reat food great service clean friendly setting.',\n",
              " \"all, assure i'll back.\",\n",
              " 'hate things much cheap quality black olives.',\n",
              " 'breakfast perpared great, beautiful presentation 3 giant slices toast, lightly dusted powdered sugar.',\n",
              " 'kids play area nasty!',\n",
              " 'reat place fo take eat in.',\n",
              " 'waitress friendly happy accomodate vegan/veggie options.',\n",
              " 'mg felt like never eaten thai food dish.',\n",
              " 'extremely \"crumby\" pretty tasteless.',\n",
              " 'pale color instead nice char flavor.',\n",
              " 'croutons also taste homemade extra plus.',\n",
              " 'got home see driest damn wings ever!',\n",
              " \"t'll regular stop trips phoenix!\",\n",
              " 'really enjoyed crema café expanded. even told friends best breakfast.',\n",
              " 'ot good money.',\n",
              " 'miss wish one philadelphia!',\n",
              " 'e got sitting fairly fast, but, ended waiting 40 minutes place order, another 30 minutes food arrived.',\n",
              " 'hey also best cheese crisp town.',\n",
              " 'ood value, great food, great service.',\n",
              " \"ouldn't ask satisfying meal.\",\n",
              " 'food good.',\n",
              " 'awesome.',\n",
              " 'wanted leave.',\n",
              " 'e made drive way north scottsdale... one bit disappointed!',\n",
              " 'eating again.',\n",
              " '!....the owners really really need quit soooooo cheap let wrap freaking sandwich two papers one!',\n",
              " 'checked place couple years ago impressed.',\n",
              " 'chicken got definitely reheated ok, wedges cold soggy.',\n",
              " 'orry, getting food anytime soon :(',\n",
              " 'n absolute must visit!',\n",
              " 'cow tongue cheek tacos amazing.',\n",
              " 'friend like bloody mary.',\n",
              " 'espite hard rate businesses, actually rare give 1 star.',\n",
              " 'hey really want make experience good one.',\n",
              " 'return.',\n",
              " 'chicken pho tasted bland.',\n",
              " 'ery disappointing!!!',\n",
              " 'grilled chicken tender yellow saffron seasoning.',\n",
              " 'drive thru means want wait around half hour food, somehow end going make us wait wait.',\n",
              " 'retty awesome place.',\n",
              " 'mbience perfect.',\n",
              " 'est luck rude non-customer service focused new management.',\n",
              " 'ny grandmother make roasted chicken better one.',\n",
              " 'asked multiple times wine list time ignored went hostess got one myself.',\n",
              " 'staff always super friendly helpful, especially cool bring two small boys baby!',\n",
              " 'stars food & guy blue shirt great vibe & still letting us eat !',\n",
              " 'roast beef sandwich tasted really good!',\n",
              " 'ame evening, drastically sick.',\n",
              " 'igh-quality chicken chicken caesar salad.',\n",
              " \"rdered burger rare came we'll done.\",\n",
              " 'e promptly greeted seated.',\n",
              " 'ried go lunch madhouse.',\n",
              " 'proven dead wrong sushi bar, quality great, service fast food, impeccable.',\n",
              " 'fter waiting hour seated, greatest moods.',\n",
              " 'good joint.',\n",
              " 'macarons insanely good.',\n",
              " \"'m eating here!\",\n",
              " 'ur waiter attentive, friendly, informative.',\n",
              " 'aybe cold would somewhat edible.',\n",
              " 'place lot promise fails deliver.',\n",
              " 'ery bad experience!',\n",
              " 'hat mistake.',\n",
              " 'ood average best.',\n",
              " 'reat food.',\n",
              " 'e going back anytime soon!',\n",
              " 'ery disappointed ordered $35 big bay plater.',\n",
              " 'reat place relax awesome burger beer.',\n",
              " 'perfect sit-down family meal get together friends.',\n",
              " 'ot much flavor them, poorly constructed.',\n",
              " 'patio seating comfortable.',\n",
              " 'fried rice dry well.',\n",
              " 'ands favorite italian restaurant!',\n",
              " 'hat screams \"legit\" book...somethat\\'s also pretty rare vegas.',\n",
              " 'fun experience.',\n",
              " 'atmosphere great lovely duo violinists playing songs requested.',\n",
              " \"personally love hummus, pita, baklava, falafels baba ganoush (it's amazing eggplant!).\",\n",
              " 'ery convenient, since staying mgm!',\n",
              " 'owners super friendly staff courteous.',\n",
              " 'oth great!',\n",
              " 'clectic selection.',\n",
              " 'sweet potato tots good onion rings perfection close had.',\n",
              " 'staff attentive.',\n",
              " 'nd chef generous time (even came around twice take pictures him).',\n",
              " 'owner used work nobu, place really similar half price.',\n",
              " 'oogle mediocre imagine smashburger pop up.',\n",
              " 'ont go here.',\n",
              " 'promise disappoint.',\n",
              " 'sushi lover avoid place means.',\n",
              " 'hat great double cheeseburger!',\n",
              " 'wesome service food.',\n",
              " 'fantastic neighborhood gem !!!',\n",
              " \"can't wait go back.\",\n",
              " \"plantains worst i've ever tasted.\",\n",
              " \"t's great place highly recommend it.\",\n",
              " 'ervice slow attentive.',\n",
              " \"gave 5 stars then, i'm giving 5 stars now.\",\n",
              " 'staff spends time talking me.',\n",
              " 'essert: panna cotta amazing.',\n",
              " 'ery good food, great atmosphere.1',\n",
              " 'amn good steak.',\n",
              " 'otal brunch fail.',\n",
              " 'rices reasonable, flavors spot on, sauce home made, slaw drenched mayo.',\n",
              " 'decor nice, piano music soundtrack pleasant.',\n",
              " 'steak amazing...rge fillet relleno best seafood plate ever had!',\n",
              " 'ood food , good service .',\n",
              " 'absolutely amazing.',\n",
              " 'probably back, honest.',\n",
              " 'ill definitely back!',\n",
              " 'sergeant pepper beef sandwich auju sauce excellent sandwich well.',\n",
              " \"awaiian breeze, mango magic, pineapple delight smoothies i've tried far they're good.\",\n",
              " 'ent lunch - service slow.',\n",
              " 'e much say place walked expected amazing, quickly disappointed.',\n",
              " 'mortified.',\n",
              " 'eedless say, never back again.',\n",
              " 'nyways, food definitely filling all, price pay expect more.',\n",
              " 'chips came dripping grease, mostly edible.',\n",
              " 'really impressed strip steak.',\n",
              " 'ave going since 2007 every meal awesome!!',\n",
              " 'ur server nice attentive serving staff.',\n",
              " 'cashier friendly even brought food me.',\n",
              " 'work hospitality industry paradise valley refrained recommending cibo longer.',\n",
              " 'atmosphere fun.',\n",
              " 'ould recommend others.',\n",
              " 'ervice quick even \"to go\" orders like like it!',\n",
              " 'mean really, get famous fish chips terrible!?!',\n",
              " 'hat said, mouths bellies still quite pleased.',\n",
              " 'ot thing.',\n",
              " '2 thumbs up!!',\n",
              " 'f reading please go there.',\n",
              " 'loved grilled pizza, reminded legit italian pizza.',\n",
              " 'nly pros : large seating area/ nice bar area/ great simple drink menu/ best brick oven pizza homemade dough!',\n",
              " 'hey really nice atmosphere.',\n",
              " 'onight elk filet special...and sucked.',\n",
              " 'fter one bite, hooked.',\n",
              " 'e ordered old classics new dishes going times sorely disappointed everything.',\n",
              " 'ute, quaint, simple, honest.',\n",
              " 'chicken deliciously seasoned perfect fry outside moist chicken inside.',\n",
              " 'food great always, compliments chef.',\n",
              " 'pecial thanks dylan t. recommendation order :) yummy tummy.',\n",
              " 'wesome selection beer.',\n",
              " 'reat food awesome service!',\n",
              " 'ne nice thing added gratuity bill since party larger 6 8, expect tip that.',\n",
              " 'fly apple juice.. fly!!!!!!!!',\n",
              " 'han nan chicken also tasty.',\n",
              " 'service, thought good.',\n",
              " 'food barely lukewarm, must sitting waiting server bring us.',\n",
              " \"yan's bar definitely one edinburgh establishment revisiting.\",\n",
              " \"icest chinese restaurant i've while.\",\n",
              " 'verall, like food service.',\n",
              " 'hey also serve indian naan bread hummus spicy pine nut sauce world.',\n",
              " 'robably never coming back, recommend it.',\n",
              " \"riend's pasta -- also bad, barely touched it.\",\n",
              " 'ry airport experience tasty food speedy, friendly service.',\n",
              " 'love decor chinese calligraphy wall paper.',\n",
              " 'ever anything complain here.',\n",
              " 'restaurant clean family restaurant feel it.',\n",
              " 'way fried.',\n",
              " \"'m sure long stood long enough begin feel awkwardly place.\",\n",
              " 'hen opened sandwich, impressed, good way.',\n",
              " 'ill back!',\n",
              " 'warm feeling service felt like guest special treat.',\n",
              " 'n extensive menu provides lots options breakfast.',\n",
              " 'always order vegetarian menu dinner, wide array options choose from.',\n",
              " 'watched prices inflate, portions get smaller management attitudes grow rapidly!',\n",
              " 'onderful lil tapas ambience made feel warm fuzzy inside.',\n",
              " 'got enjoy seafood salad, fabulous vinegrette.',\n",
              " 'wontons thin, thick chewy, almost melt mouth.',\n",
              " 'evel 5 spicy perfect, spice over-whelm soup.',\n",
              " 'e sat right time server get go fantastic!',\n",
              " 'thing enjoy crowd older crowd, around mid 30s up.',\n",
              " \"hen i'm side town, definitely spot i'll hit again!\",\n",
              " 'wait 30 minutes get drink longer get 2 arepas.',\n",
              " 'great place eat!',\n",
              " 'jalapeno bacon soooo good.',\n",
              " 'service poor thats nice.',\n",
              " 'ood good, service good, prices good.',\n",
              " 'place clean food oh stale!',\n",
              " 'chicken dishes ok, beef like shoe leather.',\n",
              " 'ut service beyond bad.',\n",
              " '\\'m happy here!!!\"',\n",
              " 'asted like dirt.',\n",
              " 'ne places phoenix would definately go back .',\n",
              " 'block amazing.',\n",
              " \"t's close house, low-key, non-fancy, affordable prices, good food.\",\n",
              " '* hot & sour & egg flower soups absolutely 5 stars!',\n",
              " 'sashimi poor quality soggy tasteless.',\n",
              " 'reat time - family dinner sunday night.',\n",
              " 'food tasty all, say \"real traditional hunan style\".',\n",
              " 'hat bother me, slow service.',\n",
              " 'flair bartenders absolutely amazing!',\n",
              " 'heir frozen margaritas way sugary taste.',\n",
              " 'hese good ordered twice.',\n",
              " 'nutshell: 1) restaraunt smells like combination dirty fish market sewer.',\n",
              " \"girlfriend's veal bad.\",\n",
              " 'nfortunately, good.',\n",
              " 'pretty satifying experience.',\n",
              " 'oin club get awesome offers via email.',\n",
              " 'erfect someone (me) likes beer ice cold, case, even colder.',\n",
              " 'land flavorless good way describing barely tepid meat.',\n",
              " \"chains, i'm fan of, beat place easily.\",\n",
              " 'nachos must have!',\n",
              " 'e coming back.',\n",
              " 'many words say place, everything pretty well.',\n",
              " 'staff super nice quick even crazy crowds downtown juries, lawyers, court staff.',\n",
              " 'reat atmosphere, friendly fast service.',\n",
              " 'hen received pita huge lot meat thumbs there.',\n",
              " 'nce food arrives meh.',\n",
              " \"aying $7.85 hot dog fries looks like came kid's meal wienerschnitzel idea good meal.\",\n",
              " 'classic maine lobster roll fantastic.',\n",
              " 'brother law works mall ate day, guess sick night too.',\n",
              " 'good going review place twice - hereas tribute place tribute event held last night.',\n",
              " 'chips salsa really good, salsa fresh.',\n",
              " 'place great!!!!!!!!!!!!!!',\n",
              " 'ediocre food.',\n",
              " 'nce get inside impressed place.',\n",
              " \"'m super pissd.\",\n",
              " 'nd service super friendly.',\n",
              " 'hy sad little vegetables overcooked?',\n",
              " 'place nice surprise!',\n",
              " 'hey golden-crispy delicious.',\n",
              " 'high hopes place since burgers cooked charcoal grill, unfortunately taste fell flat, way flat.',\n",
              " 'could eat bruschetta day devine.',\n",
              " 'ot single employee came see ok even needed water refill finally served us food.',\n",
              " 'astly, mozzarella sticks, best thing ordered.',\n",
              " 'first time ever came amazing experience, still tell people awesome duck was.',\n",
              " 'server negligent needs made us feel unwelcome... would suggest place!',\n",
              " 'service terrible though.',\n",
              " 'place overpriced, consistent boba, really overpriced!',\n",
              " 'packed!!',\n",
              " 'love place.',\n",
              " 'say desserts yummy.',\n",
              " 'food terrible.',\n",
              " 'seasonal fruit fresh white peach puree.',\n",
              " \"kept getting worse worse i'm officially done.\",\n",
              " 'place honestly blown up.',\n",
              " 'ut definitely would eat again.',\n",
              " 'waste money here!',\n",
              " 'love put food nice plastic containers opposed cramming little paper takeout boxes.',\n",
              " 'crêpe delicate thin moist.',\n",
              " 'wful service.',\n",
              " \"on't ever go again.\",\n",
              " 'ood quality horrible.',\n",
              " 'price think place would much rather gone.',\n",
              " 'service fair best.',\n",
              " 'love sushi, found kabuki over-priced, over-hip under-services.',\n",
              " 'favor stay away dish.',\n",
              " 'ery poor service.',\n",
              " 'one table thought food average worth wait it.',\n",
              " 'est service food ever, maria server good friendly made day.',\n",
              " 'hey excellent.',\n",
              " 'paid bill tip felt server terrible job.',\n",
              " 'ust lunch great experience.',\n",
              " 'never bland food surprised considering article read focused much spices flavor.',\n",
              " 'ood way overpriced portions fucking small.',\n",
              " \"recently tried caballero's back every week since!\",\n",
              " '40 bucks head, really expect better food.',\n",
              " 'food came good pace.',\n",
              " 'ate twice last visit, especially enjoyed salmon salad.',\n",
              " 'back.',\n",
              " 'e could believe dirty oysters were!',\n",
              " 'place deserves stars.',\n",
              " 'would recommend place.',\n",
              " \"n fact i'm going round 4 stars, awesome.\",\n",
              " 'disbelief, dish qualified worst version foods ever tasted.',\n",
              " 'ad day not, low tolerance rude customer service people, job nice polite, wash dishes otherwise!!',\n",
              " 'potatoes great biscuit.',\n",
              " 'probably would go again.',\n",
              " 'flavorful perfect amount heat.',\n",
              " 'price reasonable service great.',\n",
              " 'wife hated meal (coconut shrimp), friends really enjoy meals, either.',\n",
              " 'fella got huevos rancheros look appealing.',\n",
              " 'ent happy hour, great list wines.',\n",
              " 'ome may say buffet pricey think get pay place getting quite lot!',\n",
              " 'probably coming back here.',\n",
              " \"orst food/service i've while.\",\n",
              " 'place pretty good, nice little vibe restaurant.',\n",
              " 'alk great customer service course back.',\n",
              " 'ot dishes hot, cold dishes close room temp.i watched staff prepare food bare hands, gloves.everything deep fried oil.',\n",
              " 'love fries beans.',\n",
              " 'lways pleasure dealing him.',\n",
              " \"hey plethora salads sandwiches, everything i've tried gets seal approval.\",\n",
              " 'place awesome want something light healthy summer.',\n",
              " 'sushi strip, place go.',\n",
              " 'service great, even manager came helped table.',\n",
              " 'feel dining room college cooking course high class dining service slow best.',\n",
              " \"started review two stars, i'm editing give one.\",\n",
              " \"worst sushi ever eat besides costco's.\",\n",
              " 'excellent restaurant highlighted great service, unique menu, beautiful setting.',\n",
              " 'boyfriend sat bar completely delightful experience.',\n",
              " 'eird vibe owners.',\n",
              " 'hardly meat.',\n",
              " \"'ve better bagels grocery store.\",\n",
              " 'place gyros.',\n",
              " 'love owner/chef, one authentic japanese cool dude!',\n",
              " 'ow burgers good, pizza used amazing doughy flavorless.',\n",
              " 'found six inch long piece wire salsa.',\n",
              " 'service terrible, food mediocre.',\n",
              " 'e definately enjoyed ourselves.',\n",
              " 'ordered albondigas soup - warm - tasted like tomato soup frozen meatballs.',\n",
              " 'n three different occasions asked well done medium well, three times got bloodiest piece meat plate.',\n",
              " 'two bites refused eat anymore.',\n",
              " 'service extremely slow.',\n",
              " 'fter 20 minutes wait, got table.',\n",
              " 'eriously killer hot chai latte.',\n",
              " 'allergy warnings menu, waitress absolutely clue meals contain peanuts.',\n",
              " 'boyfriend tried mediterranean chicken salad fell love.',\n",
              " 'heir rotating beers tap also highlight place.',\n",
              " 'ricing bit concern mellow mushroom.',\n",
              " 'orst thai ever.',\n",
              " 'f stay vegas must get breakfast least once.',\n",
              " 'want first say server great perfect service.',\n",
              " 'pizza selections good.',\n",
              " 'strawberry tea, good.',\n",
              " 'ighly unprofessional rude loyal patron!',\n",
              " 'verall, great experience.',\n",
              " 'pend money elsewhere.',\n",
              " 'heir regular toasted bread equally satisfying occasional pats butter... mmmm...!',\n",
              " 'buffet bellagio far anticipated.',\n",
              " 'nd drinks weak, people!',\n",
              " '-my order correct.',\n",
              " 'lso, feel like chips bought, made house.',\n",
              " 'fter disappointing dinner went elsewhere dessert.',\n",
              " 'chips sals amazing!!!!!!!!!!!!!!!!!!!',\n",
              " 'e returning.',\n",
              " 'new fav vegas buffet spot.',\n",
              " 'seriously cannot believe owner many unexperienced employees running around like chickens heads cut off.',\n",
              " 'ery, sad.',\n",
              " 'felt insulted disrespected, could talk judge another human like that?',\n",
              " \"ow call steakhouse can't properly cook steak, understand!\",\n",
              " \"'m impressed concept food.\",\n",
              " 'thing crazy guacamole like puréed.',\n",
              " 'really nothing postinos, hope experience bett',\n",
              " 'got food poisoning buffet.',\n",
              " 'hey brought fresh batch fries thinking yay something warm no!',\n",
              " 'hat hilarious, yummy christmas eve dinner remember biggest fail entire trip us.',\n",
              " 'eedless say, going back anytime soon.',\n",
              " 'place disgusting!',\n",
              " 'time eat here, see caring teamwork professional degree.',\n",
              " 'ri style calamari joke.',\n",
              " 'owever, much garlic fondue, barely edible.',\n",
              " 'could barely stomach meal, complain business lunch.',\n",
              " 'bad, lost heart finish it.',\n",
              " 'also took forever bring us check asked it.',\n",
              " 'e ones make scene restaurants get it...definitely lost love one!',\n",
              " 'isappointing experience.',\n",
              " \"food par denny's, say, good all.\",\n",
              " 'f want wait mediocre food downright terrible service, place you.',\n",
              " 'aaaaaayyyyyyyyyy rated saying.',\n",
              " 'e going back.',\n",
              " 'place fairly clean food simply worth it.',\n",
              " 'place lacked style!!',\n",
              " 'sangria half glass wine full $12, ridiculous.',\n",
              " \"on't bother coming here.\",\n",
              " 'meat pretty dry, sliced brisket pulled pork.',\n",
              " 'building seems pretty neat, bathroom pretty trippy, eat again.',\n",
              " 'equally awful.',\n",
              " 'robably hurry go back.',\n",
              " 'ery slow seating even reservation.',\n",
              " 'ot good stretch imagination.',\n",
              " 'cashew cream sauce bland vegetables undercooked.',\n",
              " 'chipolte ranch dipping sause tasteless, seemed thin watered heat.',\n",
              " 'bit sweet, really spicy enough, lacked flavor.',\n",
              " 'disappointed!!',\n",
              " 'place horrible way overpriced.',\n",
              " \"aybe vegetarian fare, i've twice thought average best.\",\n",
              " 'busy know why.',\n",
              " 'tables outside also dirty lot time workers always friendly helpful menu.',\n",
              " 'ambiance feel like buffet setting, douchey indoor garden tea biscuits.',\n",
              " 'on: spotty service.',\n",
              " 'fries hot, neither burger.',\n",
              " 'ut came back cold.',\n",
              " 'hen food came out, disappointment ensued.',\n",
              " 'real disappointment waiter.',\n",
              " 'husband said rude... even apologize bad food anything.',\n",
              " 'reason eat would fill night binge drinking get carbs stomach.',\n",
              " 'nsults, profound deuchebaggery, go outside smoke break serving solidify it.',\n",
              " \"f someone orders two tacos don't' think may part customer service ask combo ala cart?\",\n",
              " 'quite disappointed although blame needs placed door.',\n",
              " 'fter rave reviews wait eat here......what disappointment!',\n",
              " 'el taco pretty nasty avoided possible.',\n",
              " \"t's hard make decent hamburger.\",\n",
              " 'ut like it.',\n",
              " 'ell go back',\n",
              " \"e've gotten much better service pizza place next door services received restaurant.\",\n",
              " 'know big deal place, back \"ya\\'all\".',\n",
              " 'immediately said wanted talk manager want talk guy shots fireball behind bar.',\n",
              " 'ambiance much better.',\n",
              " 'nfortunately, set us disapppointment entrees.',\n",
              " 'food good.',\n",
              " 'servers suck, wait, correction, server heimer sucked.',\n",
              " 'hat happened next pretty....off putting.',\n",
              " 'oo bad cause know family owned, really wanted like place.',\n",
              " 'verpriced getting.',\n",
              " 'vomited bathroom mid lunch.',\n",
              " 'kept looking time soon become 35 minutes, yet still food.',\n",
              " 'places eat circumstances would ever return to, tops list.',\n",
              " 'e started tuna sashimi brownish color obviously fresh.',\n",
              " 'ood average.',\n",
              " 'sure beat nachos movies would expect little bit coming restaurant.',\n",
              " 'all, ha long bay bit flop.',\n",
              " 'problem charge $11.99 sandwich bigger subway sub (which offers better amount vegetables).',\n",
              " 'hrimp- unwrapped (i live 1/2 mile brushfire) literally ice cold.',\n",
              " 'lacked flavor, seemed undercooked, dry.',\n",
              " 'really impressive place closed down.',\n",
              " 'would avoid place staying mirage.',\n",
              " 'refried beans came meal dried crusty food bland.',\n",
              " 'pend money time place else.',\n",
              " 'lady table next us found live green caterpillar salad.',\n",
              " 'presentation food awful.',\n",
              " \"can't tell disappointed was.\",\n",
              " 'think food flavor texture lacking.',\n",
              " 'ppetite instantly gone.',\n",
              " 'verall impressed would go back.',\n",
              " \"whole experience underwhelming, think we'll go ninja sushi next time.\",\n",
              " 'hen, wasted enough life there, poured salt wound drawing time took bring check.']"
            ]
          },
          "metadata": {},
          "execution_count": 109
        }
      ]
    },
    {
      "cell_type": "code",
      "source": [
        "cv = CountVectorizer()\n",
        "cv.fit_transform(corpus).toarray().shape"
      ],
      "metadata": {
        "colab": {
          "base_uri": "https://localhost:8080/"
        },
        "id": "4oo5uut3O5E-",
        "outputId": "117d9539-c6ce-4d41-9683-25d3dc41c01c"
      },
      "execution_count": 114,
      "outputs": [
        {
          "output_type": "execute_result",
          "data": {
            "text/plain": [
              "(1000, 2105)"
            ]
          },
          "metadata": {},
          "execution_count": 114
        }
      ]
    },
    {
      "cell_type": "markdown",
      "source": [
        "# model training and testing "
      ],
      "metadata": {
        "id": "3syJwNa-P1Kx"
      }
    },
    {
      "cell_type": "code",
      "source": [
        "x = cv.fit_transform(corpus).toarray()\n",
        "x"
      ],
      "metadata": {
        "colab": {
          "base_uri": "https://localhost:8080/"
        },
        "id": "op1XzgiVP9bq",
        "outputId": "5dcf0416-3399-4342-ec12-0654e8ec06c6"
      },
      "execution_count": 117,
      "outputs": [
        {
          "output_type": "execute_result",
          "data": {
            "text/plain": [
              "array([[0, 0, 0, ..., 0, 0, 0],\n",
              "       [0, 0, 0, ..., 0, 0, 0],\n",
              "       [0, 0, 0, ..., 0, 0, 0],\n",
              "       ...,\n",
              "       [0, 0, 0, ..., 0, 0, 0],\n",
              "       [0, 0, 0, ..., 0, 0, 0],\n",
              "       [0, 0, 0, ..., 0, 0, 0]])"
            ]
          },
          "metadata": {},
          "execution_count": 117
        }
      ]
    },
    {
      "cell_type": "code",
      "source": [
        "y = data['Liked']\n",
        "y"
      ],
      "metadata": {
        "colab": {
          "base_uri": "https://localhost:8080/"
        },
        "id": "rGifMri0P_si",
        "outputId": "534c7fb9-5019-44ea-99f3-2f8a8b890d9c"
      },
      "execution_count": 118,
      "outputs": [
        {
          "output_type": "execute_result",
          "data": {
            "text/plain": [
              "0      1\n",
              "1      0\n",
              "2      0\n",
              "3      1\n",
              "4      1\n",
              "      ..\n",
              "995    0\n",
              "996    0\n",
              "997    0\n",
              "998    0\n",
              "999    0\n",
              "Name: Liked, Length: 1000, dtype: int64"
            ]
          },
          "metadata": {},
          "execution_count": 118
        }
      ]
    },
    {
      "cell_type": "code",
      "source": [
        "from sklearn.model_selection import train_test_split\n",
        "train_test_split\n"
      ],
      "metadata": {
        "id": "Hi8GswC-QenS"
      },
      "execution_count": 119,
      "outputs": []
    },
    {
      "cell_type": "code",
      "source": [
        "X_train, X_test, y_train, y_test = train_test_split(x, y, test_size=0.33, random_state=42)"
      ],
      "metadata": {
        "id": "gcdvqJQaQoZ-"
      },
      "execution_count": 123,
      "outputs": []
    },
    {
      "cell_type": "code",
      "source": [
        "X_train.shape"
      ],
      "metadata": {
        "colab": {
          "base_uri": "https://localhost:8080/"
        },
        "id": "R5wgdcGWRdsC",
        "outputId": "c82ab0ef-5e5a-4a1e-daf1-7e78a88d08bf"
      },
      "execution_count": 126,
      "outputs": [
        {
          "output_type": "execute_result",
          "data": {
            "text/plain": [
              "(670, 2105)"
            ]
          },
          "metadata": {},
          "execution_count": 126
        }
      ]
    },
    {
      "cell_type": "code",
      "source": [
        "X_test.shape"
      ],
      "metadata": {
        "colab": {
          "base_uri": "https://localhost:8080/"
        },
        "id": "RHF7nWENRf2N",
        "outputId": "68ff3410-8bff-4049-d647-9a155a52c33a"
      },
      "execution_count": 127,
      "outputs": [
        {
          "output_type": "execute_result",
          "data": {
            "text/plain": [
              "(330, 2105)"
            ]
          },
          "metadata": {},
          "execution_count": 127
        }
      ]
    },
    {
      "cell_type": "markdown",
      "source": [
        "# model building"
      ],
      "metadata": {
        "id": "nSqvqy9ZR4k8"
      }
    },
    {
      "cell_type": "code",
      "source": [
        "from sklearn.naive_bayes import MultinomialNB"
      ],
      "metadata": {
        "id": "OUYD6_3dR8Y-"
      },
      "execution_count": 128,
      "outputs": []
    },
    {
      "cell_type": "code",
      "source": [
        "clf = MultinomialNB()"
      ],
      "metadata": {
        "id": "wYM9-CWVSWHx"
      },
      "execution_count": 129,
      "outputs": []
    },
    {
      "cell_type": "code",
      "source": [
        "clf.fit(X_train,y_train)"
      ],
      "metadata": {
        "colab": {
          "base_uri": "https://localhost:8080/"
        },
        "id": "Eqr3-p8-SnPe",
        "outputId": "3676ea4a-cc6e-47b1-b877-f18920a1fa92"
      },
      "execution_count": 132,
      "outputs": [
        {
          "output_type": "execute_result",
          "data": {
            "text/plain": [
              "MultinomialNB()"
            ]
          },
          "metadata": {},
          "execution_count": 132
        }
      ]
    },
    {
      "cell_type": "markdown",
      "source": [
        "# model prediction"
      ],
      "metadata": {
        "id": "sddTOHEWS3_k"
      }
    },
    {
      "cell_type": "code",
      "source": [
        "y_pred= clf.predict(X_test)\n",
        "y_pred"
      ],
      "metadata": {
        "colab": {
          "base_uri": "https://localhost:8080/"
        },
        "id": "GIVDr22HS8rQ",
        "outputId": "a3f4e5cd-bcc8-4670-dd61-df308b8dc2d8"
      },
      "execution_count": 135,
      "outputs": [
        {
          "output_type": "execute_result",
          "data": {
            "text/plain": [
              "array([0, 1, 1, 1, 1, 1, 0, 1, 0, 1, 0, 0, 0, 1, 0, 1, 0, 0, 1, 1, 1, 1,\n",
              "       1, 0, 0, 0, 0, 0, 1, 0, 0, 1, 0, 1, 0, 1, 1, 0, 1, 0, 1, 0, 1, 0,\n",
              "       1, 0, 0, 0, 1, 0, 0, 1, 1, 1, 1, 0, 0, 1, 0, 0, 0, 1, 1, 1, 0, 0,\n",
              "       1, 1, 0, 0, 1, 0, 1, 0, 1, 0, 1, 1, 1, 0, 1, 1, 0, 0, 1, 1, 0, 1,\n",
              "       1, 1, 1, 1, 0, 1, 0, 0, 1, 0, 0, 0, 1, 0, 1, 0, 1, 1, 1, 0, 0, 0,\n",
              "       0, 1, 1, 0, 0, 1, 1, 0, 0, 1, 0, 0, 0, 1, 0, 0, 1, 0, 0, 1, 0, 1,\n",
              "       0, 0, 1, 1, 1, 1, 1, 0, 0, 0, 1, 1, 0, 0, 0, 0, 1, 0, 0, 1, 0, 0,\n",
              "       0, 1, 1, 1, 0, 0, 1, 1, 0, 0, 1, 0, 0, 1, 1, 0, 0, 1, 1, 0, 1, 0,\n",
              "       1, 0, 0, 0, 1, 0, 1, 0, 1, 1, 1, 0, 0, 1, 0, 1, 1, 0, 0, 1, 1, 1,\n",
              "       0, 1, 0, 1, 0, 0, 1, 0, 1, 1, 0, 1, 1, 0, 0, 0, 0, 1, 1, 0, 1, 1,\n",
              "       0, 1, 0, 1, 1, 0, 0, 0, 1, 0, 0, 0, 1, 1, 1, 0, 0, 0, 1, 1, 1, 1,\n",
              "       1, 0, 0, 1, 0, 1, 0, 1, 0, 0, 1, 0, 1, 1, 1, 1, 0, 1, 0, 1, 1, 0,\n",
              "       1, 1, 0, 0, 1, 1, 0, 1, 0, 1, 1, 1, 0, 1, 0, 0, 0, 1, 1, 0, 0, 0,\n",
              "       0, 1, 0, 0, 0, 1, 0, 1, 1, 0, 0, 1, 1, 1, 0, 0, 1, 1, 0, 1, 1, 0,\n",
              "       1, 1, 1, 1, 0, 1, 1, 0, 1, 0, 1, 1, 0, 0, 0, 0, 0, 0, 1, 1, 0, 0])"
            ]
          },
          "metadata": {},
          "execution_count": 135
        }
      ]
    },
    {
      "cell_type": "code",
      "source": [
        "y_test.values"
      ],
      "metadata": {
        "colab": {
          "base_uri": "https://localhost:8080/"
        },
        "id": "rfuyL8T5TYrI",
        "outputId": "752d57b8-4dcd-4593-95e2-d1b0e16b0d73"
      },
      "execution_count": 137,
      "outputs": [
        {
          "output_type": "execute_result",
          "data": {
            "text/plain": [
              "array([1, 1, 1, 1, 1, 1, 0, 1, 0, 1, 0, 0, 0, 0, 0, 1, 1, 0, 0, 1, 1, 1,\n",
              "       0, 1, 0, 0, 1, 0, 0, 0, 1, 1, 0, 1, 0, 1, 1, 0, 1, 0, 0, 1, 1, 0,\n",
              "       1, 1, 0, 0, 1, 0, 0, 0, 0, 1, 1, 1, 0, 1, 0, 0, 0, 1, 1, 1, 1, 1,\n",
              "       1, 1, 1, 0, 1, 1, 1, 0, 1, 0, 1, 0, 0, 0, 0, 1, 0, 1, 1, 0, 0, 1,\n",
              "       1, 1, 1, 1, 0, 0, 1, 1, 1, 1, 1, 0, 1, 0, 0, 1, 1, 0, 0, 0, 0, 0,\n",
              "       1, 1, 0, 0, 0, 1, 1, 0, 0, 1, 0, 1, 0, 1, 1, 1, 1, 1, 1, 0, 0, 0,\n",
              "       1, 0, 1, 1, 0, 1, 1, 0, 0, 1, 1, 0, 0, 0, 0, 0, 1, 0, 0, 1, 0, 1,\n",
              "       0, 1, 1, 0, 0, 0, 1, 1, 0, 0, 1, 1, 0, 1, 1, 1, 1, 1, 0, 0, 1, 0,\n",
              "       1, 0, 0, 0, 1, 0, 1, 0, 0, 1, 1, 0, 0, 1, 0, 0, 1, 1, 0, 1, 1, 0,\n",
              "       0, 1, 0, 1, 0, 0, 1, 0, 1, 0, 0, 0, 1, 0, 0, 0, 0, 1, 1, 0, 1, 1,\n",
              "       0, 1, 0, 1, 1, 0, 0, 0, 0, 0, 0, 0, 1, 0, 0, 0, 0, 0, 0, 0, 1, 1,\n",
              "       1, 1, 0, 1, 0, 1, 0, 0, 0, 0, 1, 1, 1, 1, 1, 0, 1, 0, 0, 1, 1, 0,\n",
              "       1, 1, 0, 0, 1, 1, 1, 0, 0, 1, 0, 1, 0, 1, 0, 0, 0, 1, 1, 0, 0, 0,\n",
              "       1, 1, 1, 0, 0, 1, 0, 1, 1, 1, 0, 0, 0, 1, 0, 0, 0, 0, 0, 0, 1, 0,\n",
              "       0, 1, 0, 1, 0, 0, 1, 0, 0, 1, 1, 1, 0, 0, 0, 0, 0, 0, 1, 1, 0, 0])"
            ]
          },
          "metadata": {},
          "execution_count": 137
        }
      ]
    },
    {
      "cell_type": "markdown",
      "source": [
        "# model evaluation"
      ],
      "metadata": {
        "id": "Vs5r-RsST5Ei"
      }
    },
    {
      "cell_type": "code",
      "source": [
        "from sklearn.metrics import confusion_matrix, accuracy_score, classification_report"
      ],
      "metadata": {
        "id": "q-elK_dLT4X8"
      },
      "execution_count": 138,
      "outputs": []
    },
    {
      "cell_type": "code",
      "source": [
        "print(confusion_matrix(y_test,y_pred))"
      ],
      "metadata": {
        "colab": {
          "base_uri": "https://localhost:8080/"
        },
        "id": "XgCYuAfqUbR8",
        "outputId": "1928b9e0-1842-47fa-aca9-8ea225751807"
      },
      "execution_count": 139,
      "outputs": [
        {
          "output_type": "stream",
          "name": "stdout",
          "text": [
            "[[127  46]\n",
            " [ 39 118]]\n"
          ]
        }
      ]
    },
    {
      "cell_type": "code",
      "source": [
        "print(accuracy_score(y_test,y_pred))"
      ],
      "metadata": {
        "colab": {
          "base_uri": "https://localhost:8080/"
        },
        "id": "rUC3J1XRUtY6",
        "outputId": "8396e629-10c2-41bb-faeb-57270edaec3c"
      },
      "execution_count": 140,
      "outputs": [
        {
          "output_type": "stream",
          "name": "stdout",
          "text": [
            "0.7424242424242424\n"
          ]
        }
      ]
    },
    {
      "cell_type": "code",
      "source": [
        "print(classification_report(y_test,y_pred))"
      ],
      "metadata": {
        "colab": {
          "base_uri": "https://localhost:8080/"
        },
        "id": "fDm8D4xXUuEy",
        "outputId": "329facb2-edd4-4725-ef5b-b094f9bd2d76"
      },
      "execution_count": 141,
      "outputs": [
        {
          "output_type": "stream",
          "name": "stdout",
          "text": [
            "              precision    recall  f1-score   support\n",
            "\n",
            "           0       0.77      0.73      0.75       173\n",
            "           1       0.72      0.75      0.74       157\n",
            "\n",
            "    accuracy                           0.74       330\n",
            "   macro avg       0.74      0.74      0.74       330\n",
            "weighted avg       0.74      0.74      0.74       330\n",
            "\n"
          ]
        }
      ]
    }
  ]
}